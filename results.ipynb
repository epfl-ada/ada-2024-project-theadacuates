{
 "cells": [
  {
   "cell_type": "markdown",
   "metadata": {},
   "source": [
    "# Title\n",
    "\n",
    "## MAI QUESTION\n",
    "\n",
    "## SHORT DESCIRPTION\n"
   ]
  },
  {
   "cell_type": "markdown",
   "metadata": {},
   "source": [
    "# Preprocess data\n",
    "\n",
    "epxlan that the LINK THE NOTEBOOK is wehre all the proecoessing havs been done. Her ewe alny uplaode the èpreocess data\n",
    "\n",
    "EXPLAIN THE PROPROC STESP FOR EACH DATASET\n",
    "- PATHS\n",
    "    - decode names\n",
    "    - remove paths \n",
    "    -,,,,\n",
    "- ARTICLES\n",
    "- BFS MATRIX \n",
    "..."
   ]
  },
  {
   "cell_type": "code",
   "execution_count": 1,
   "metadata": {},
   "outputs": [
    {
     "ename": "SyntaxError",
     "evalue": "invalid syntax (670048530.py, line 1)",
     "output_type": "error",
     "traceback": [
      "\u001b[0;36m  Cell \u001b[0;32mIn[1], line 1\u001b[0;36m\u001b[0m\n\u001b[0;31m    df_path = pd.read_csv(....)\u001b[0m\n\u001b[0m                              ^\u001b[0m\n\u001b[0;31mSyntaxError\u001b[0m\u001b[0;31m:\u001b[0m invalid syntax\n"
     ]
    }
   ],
   "source": [
    "df_path = pd.read_csv(....)\n",
    "df_argicle = pd.read(...)"
   ]
  },
  {
   "cell_type": "markdown",
   "metadata": {},
   "source": [
    "# Exploratory Data Analysis"
   ]
  },
  {
   "cell_type": "markdown",
   "metadata": {},
   "source": [
    "EPXLAIN THAT THE FILLL RESULT ARE LEPRNT IN THE EDA-IPUNB AND LINK IT"
   ]
  },
  {
   "cell_type": "markdown",
   "metadata": {},
   "source": [
    "MARKDOWN CELL WITH EXPLANATION OF EVERY VARIBALE IN DF (EACH DF)\n",
    "\n",
    "SHOW THAT WE AHVE !!!ENRICHED!!! THE DATASET WITH NEW FEAT\n",
    "\n",
    "DF PATHS  desiption:\n",
    "- Ddiuration = \n",
    "- m-babclcins =? \n",
    "-duration_nromarzied = ...\n"
   ]
  },
  {
   "cell_type": "code",
   "execution_count": null,
   "metadata": {},
   "outputs": [],
   "source": [
    "# count hoe mnay paths hae been removed after firltering\n",
    "\n",
    "# how many stratified ny finsihed unfinwhed\n",
    "\n",
    "# how many streified by Category\n",
    "\n"
   ]
  },
  {
   "cell_type": "markdown",
   "metadata": {},
   "source": [
    "conlusion: not al lotr mroeves, disrievution remains the sa e (we are not remving all form \"hisotry\")"
   ]
  },
  {
   "cell_type": "code",
   "execution_count": null,
   "metadata": {},
   "outputs": [],
   "source": [
    "# chech overall balance of\n",
    "\n",
    "# finish aufnhsied\n",
    "\n",
    "# actaegoees\n",
    "\n",
    "# PLOTS!!"
   ]
  },
  {
   "cell_type": "markdown",
   "metadata": {},
   "source": [
    "STATE CLERIRNLY: THAT WE OBECJSERVE A UNBALSNCED OF THE DATA, NUT NOT ENOGHT TO WLAS US TO CHOICE TO DO A REBALACING TEQNCVIUE"
   ]
  },
  {
   "cell_type": "code",
   "execution_count": null,
   "metadata": {},
   "outputs": [],
   "source": [
    "# check frequent pages, msot visisted\n",
    "\n",
    "# plots\n"
   ]
  },
  {
   "cell_type": "markdown",
   "metadata": {},
   "source": [
    "concustion: In fact, these 20 pages account for nearly 7% of clicks across the thousands of pages in all human Wikispeedia data. Such pages are known as hubs, meaning they have many outgoing and incoming Wikipedia links"
   ]
  },
  {
   "cell_type": "code",
   "execution_count": null,
   "metadata": {},
   "outputs": [],
   "source": [
    "# order articles bu connectivity metrics\n",
    "\n",
    "# ATTENTIUON: use \"resolved_path\"\n",
    "\n",
    "# plits (barplots)\n",
    "\n",
    "# sya that our grpah is \"SMALL WORDS -- say mena d and median of connecotyvity metrics\""
   ]
  },
  {
   "cell_type": "code",
   "execution_count": null,
   "metadata": {},
   "outputs": [],
   "source": [
    "# hubs analsyss in out dgree \n",
    "\n",
    "# add CURVATURE METRIC\n",
    "\n",
    "# explain wehat it is --> see google doc"
   ]
  },
  {
   "cell_type": "code",
   "execution_count": null,
   "metadata": {},
   "outputs": [],
   "source": [
    "# conenctivyt per cateofry\n",
    "\n",
    "# ADD SANKEY DIAGRAM"
   ]
  },
  {
   "cell_type": "markdown",
   "metadata": {},
   "source": [
    "# Narrative"
   ]
  },
  {
   "cell_type": "markdown",
   "metadata": {},
   "source": [
    "# Results"
   ]
  },
  {
   "cell_type": "markdown",
   "metadata": {},
   "source": [
    "## Human Vs BFS: human are not efficiebt\n",
    "THIS PARGA SERVE AS INTRODUCTION\n",
    "\n",
    "some explainton (see the google doc)"
   ]
  },
  {
   "cell_type": "code",
   "execution_count": null,
   "metadata": {},
   "outputs": [],
   "source": [
    "# hsit FS Vs Huama with fidfee t path length\n",
    "\n"
   ]
  },
  {
   "cell_type": "code",
   "execution_count": null,
   "metadata": {},
   "outputs": [],
   "source": [
    "# plot a sinfle path by human and BFS just to catch attention"
   ]
  },
  {
   "cell_type": "markdown",
   "metadata": {},
   "source": [
    "## Simple Metrics\n",
    "\n",
    "cbdjcbekec"
   ]
  },
  {
   "cell_type": "markdown",
   "metadata": {},
   "source": [
    "### Time"
   ]
  },
  {
   "cell_type": "markdown",
   "metadata": {},
   "source": [
    "### Path Length\n",
    "As the path length, and so cognitive struggle, does this influence the rate of abandonment?"
   ]
  },
  {
   "cell_type": "code",
   "execution_count": null,
   "metadata": {},
   "outputs": [],
   "source": [
    "# look at goole doc\n",
    "# show the 2 distircuttuons of finsihed unsodhed spths as paths lenth increses"
   ]
  },
  {
   "cell_type": "markdown",
   "metadata": {},
   "source": [
    "conclusion: ----"
   ]
  },
  {
   "cell_type": "markdown",
   "metadata": {},
   "source": [
    "### Readability Metrics\n",
    "\n",
    "link ot the relariv enotebook\n",
    "\n",
    "explain whas have been doen\n",
    "\n",
    "explain the theory of reabaily metrics"
   ]
  },
  {
   "cell_type": "markdown",
   "metadata": {},
   "source": []
  },
  {
   "cell_type": "markdown",
   "metadata": {},
   "source": [
    "## Entropy"
   ]
  },
  {
   "cell_type": "code",
   "execution_count": null,
   "metadata": {},
   "outputs": [],
   "source": []
  },
  {
   "cell_type": "markdown",
   "metadata": {},
   "source": [
    "## Connectivity Analysis"
   ]
  },
  {
   "cell_type": "code",
   "execution_count": null,
   "metadata": {},
   "outputs": [],
   "source": [
    "#answer entropy\n",
    "\n",
    "#recall EDA connecotvt\n",
    "\n",
    "# show that articles with high entirpy are also high connected"
   ]
  },
  {
   "cell_type": "markdown",
   "metadata": {},
   "source": [
    "conelcusion: ..."
   ]
  },
  {
   "cell_type": "code",
   "execution_count": null,
   "metadata": {},
   "outputs": [],
   "source": [
    "# shor that ueint the \"mission\" gamer go beofre to hgi connectovy hubs\n",
    "\n",
    "# grpah on gogole doc"
   ]
  },
  {
   "cell_type": "markdown",
   "metadata": {},
   "source": [
    "cluclsion: \n",
    "- epxlain conseuquncies\n",
    "- fuejtnher show tha entory is wrng"
   ]
  },
  {
   "cell_type": "markdown",
   "metadata": {},
   "source": [
    "## Cogntive Shift"
   ]
  },
  {
   "cell_type": "code",
   "execution_count": null,
   "metadata": {},
   "outputs": [],
   "source": [
    "# plot diesctiron"
   ]
  },
  {
   "cell_type": "markdown",
   "metadata": {},
   "source": [
    "conclsuito: \n",
    "- starnge behaibrion\n",
    "- maybe need mroe reifned metric\n",
    "\n"
   ]
  },
  {
   "cell_type": "markdown",
   "metadata": {},
   "source": [
    "## Semantic similarity"
   ]
  },
  {
   "cell_type": "markdown",
   "metadata": {},
   "source": [
    "link ntoebook\n",
    "\n",
    "e0xlian whay is done\n",
    "\n",
    "theory behind -> maje exmaples with smal heatmpa\n",
    "\n",
    "state well wichib mdoel used for embeegoins \n",
    "explain WHY we havbe chosen that one "
   ]
  },
  {
   "cell_type": "code",
   "execution_count": null,
   "metadata": {},
   "outputs": [],
   "source": [
    "# expamle heatmap"
   ]
  },
  {
   "cell_type": "code",
   "execution_count": null,
   "metadata": {},
   "outputs": [],
   "source": [
    "# Sematintic shift\n",
    "\n",
    "# epxlaib well what is is, how have been claulted\n",
    "\n",
    "# shwo distirbution of mean semantic shoifr pwer path"
   ]
  },
  {
   "cell_type": "markdown",
   "metadata": {},
   "source": [
    "conclsion: the means are differt \n",
    "less shift for finished paths\n",
    "BUT PRACTICLA DIFFERNC EIS IS 0!!!"
   ]
  },
  {
   "cell_type": "code",
   "execution_count": null,
   "metadata": {},
   "outputs": [],
   "source": [
    "# evoltuon of simaltim in tiume\n",
    "\n",
    "# add ERROR BARS\n"
   ]
  },
  {
   "cell_type": "markdown",
   "metadata": {},
   "source": [
    "conlsuion\n"
   ]
  },
  {
   "cell_type": "markdown",
   "metadata": {},
   "source": [
    "# Structural Information"
   ]
  },
  {
   "cell_type": "code",
   "execution_count": null,
   "metadata": {},
   "outputs": [],
   "source": []
  },
  {
   "cell_type": "markdown",
   "metadata": {},
   "source": [
    "## ML as Holistic view"
   ]
  },
  {
   "cell_type": "code",
   "execution_count": null,
   "metadata": {},
   "outputs": [],
   "source": [
    "todo"
   ]
  }
 ],
 "metadata": {
  "kernelspec": {
   "display_name": "ada",
   "language": "python",
   "name": "python3"
  },
  "language_info": {
   "codemirror_mode": {
    "name": "ipython",
    "version": 3
   },
   "file_extension": ".py",
   "mimetype": "text/x-python",
   "name": "python",
   "nbconvert_exporter": "python",
   "pygments_lexer": "ipython3",
   "version": "3.11.10"
  }
 },
 "nbformat": 4,
 "nbformat_minor": 2
}
