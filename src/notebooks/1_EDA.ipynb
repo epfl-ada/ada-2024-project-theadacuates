{
 "cells": [
  {
   "cell_type": "code",
   "execution_count": 2,
   "metadata": {},
   "outputs": [
    {
     "name": "stdout",
     "output_type": "stream",
     "text": [
      "/home/gabri/Desktop/ADA/ada-2024-project-theadacuates\n"
     ]
    }
   ],
   "source": [
    "import numpy as np\n",
    "import matplotlib.pyplot as plt\n",
    "import seaborn as sns\n",
    "import pandas as pd\n",
    "import os\n",
    "import ast\n",
    "import networkx as nx\n",
    "from collections import Counter\n",
    "os.chdir(\"./../..\")\n",
    "print(os.getcwd())\n"
   ]
  },
  {
   "cell_type": "code",
   "execution_count": null,
   "metadata": {},
   "outputs": [
    {
     "ename": "FileNotFoundError",
     "evalue": "[Errno 2] No such file or directory: 'data/output/base_data/raw_processed.csv'",
     "output_type": "error",
     "traceback": [
      "\u001b[0;31m---------------------------------------------------------------------------\u001b[0m",
      "\u001b[0;31mFileNotFoundError\u001b[0m                         Traceback (most recent call last)",
      "Cell \u001b[0;32mIn[4], line 1\u001b[0m\n\u001b[0;32m----> 1\u001b[0m df_raw \u001b[38;5;241m=\u001b[39m \u001b[43mpd\u001b[49m\u001b[38;5;241;43m.\u001b[39;49m\u001b[43mread_csv\u001b[49m\u001b[43m(\u001b[49m\u001b[38;5;124;43m'\u001b[39;49m\u001b[38;5;124;43mdata/output/base_data/raw_processed.csv\u001b[39;49m\u001b[38;5;124;43m'\u001b[39;49m\u001b[43m)\u001b[49m   \n\u001b[1;32m      2\u001b[0m df_processed \u001b[38;5;241m=\u001b[39m pd\u001b[38;5;241m.\u001b[39mread_csv(\u001b[38;5;124m'\u001b[39m\u001b[38;5;124m./data/output/base_data/paths_processed.csv\u001b[39m\u001b[38;5;124m'\u001b[39m)\n",
      "File \u001b[0;32m~/mambaforge/envs/ada/lib/python3.11/site-packages/pandas/io/parsers/readers.py:1026\u001b[0m, in \u001b[0;36mread_csv\u001b[0;34m(filepath_or_buffer, sep, delimiter, header, names, index_col, usecols, dtype, engine, converters, true_values, false_values, skipinitialspace, skiprows, skipfooter, nrows, na_values, keep_default_na, na_filter, verbose, skip_blank_lines, parse_dates, infer_datetime_format, keep_date_col, date_parser, date_format, dayfirst, cache_dates, iterator, chunksize, compression, thousands, decimal, lineterminator, quotechar, quoting, doublequote, escapechar, comment, encoding, encoding_errors, dialect, on_bad_lines, delim_whitespace, low_memory, memory_map, float_precision, storage_options, dtype_backend)\u001b[0m\n\u001b[1;32m   1013\u001b[0m kwds_defaults \u001b[38;5;241m=\u001b[39m _refine_defaults_read(\n\u001b[1;32m   1014\u001b[0m     dialect,\n\u001b[1;32m   1015\u001b[0m     delimiter,\n\u001b[0;32m   (...)\u001b[0m\n\u001b[1;32m   1022\u001b[0m     dtype_backend\u001b[38;5;241m=\u001b[39mdtype_backend,\n\u001b[1;32m   1023\u001b[0m )\n\u001b[1;32m   1024\u001b[0m kwds\u001b[38;5;241m.\u001b[39mupdate(kwds_defaults)\n\u001b[0;32m-> 1026\u001b[0m \u001b[38;5;28;01mreturn\u001b[39;00m \u001b[43m_read\u001b[49m\u001b[43m(\u001b[49m\u001b[43mfilepath_or_buffer\u001b[49m\u001b[43m,\u001b[49m\u001b[43m \u001b[49m\u001b[43mkwds\u001b[49m\u001b[43m)\u001b[49m\n",
      "File \u001b[0;32m~/mambaforge/envs/ada/lib/python3.11/site-packages/pandas/io/parsers/readers.py:620\u001b[0m, in \u001b[0;36m_read\u001b[0;34m(filepath_or_buffer, kwds)\u001b[0m\n\u001b[1;32m    617\u001b[0m _validate_names(kwds\u001b[38;5;241m.\u001b[39mget(\u001b[38;5;124m\"\u001b[39m\u001b[38;5;124mnames\u001b[39m\u001b[38;5;124m\"\u001b[39m, \u001b[38;5;28;01mNone\u001b[39;00m))\n\u001b[1;32m    619\u001b[0m \u001b[38;5;66;03m# Create the parser.\u001b[39;00m\n\u001b[0;32m--> 620\u001b[0m parser \u001b[38;5;241m=\u001b[39m \u001b[43mTextFileReader\u001b[49m\u001b[43m(\u001b[49m\u001b[43mfilepath_or_buffer\u001b[49m\u001b[43m,\u001b[49m\u001b[43m \u001b[49m\u001b[38;5;241;43m*\u001b[39;49m\u001b[38;5;241;43m*\u001b[39;49m\u001b[43mkwds\u001b[49m\u001b[43m)\u001b[49m\n\u001b[1;32m    622\u001b[0m \u001b[38;5;28;01mif\u001b[39;00m chunksize \u001b[38;5;129;01mor\u001b[39;00m iterator:\n\u001b[1;32m    623\u001b[0m     \u001b[38;5;28;01mreturn\u001b[39;00m parser\n",
      "File \u001b[0;32m~/mambaforge/envs/ada/lib/python3.11/site-packages/pandas/io/parsers/readers.py:1620\u001b[0m, in \u001b[0;36mTextFileReader.__init__\u001b[0;34m(self, f, engine, **kwds)\u001b[0m\n\u001b[1;32m   1617\u001b[0m     \u001b[38;5;28mself\u001b[39m\u001b[38;5;241m.\u001b[39moptions[\u001b[38;5;124m\"\u001b[39m\u001b[38;5;124mhas_index_names\u001b[39m\u001b[38;5;124m\"\u001b[39m] \u001b[38;5;241m=\u001b[39m kwds[\u001b[38;5;124m\"\u001b[39m\u001b[38;5;124mhas_index_names\u001b[39m\u001b[38;5;124m\"\u001b[39m]\n\u001b[1;32m   1619\u001b[0m \u001b[38;5;28mself\u001b[39m\u001b[38;5;241m.\u001b[39mhandles: IOHandles \u001b[38;5;241m|\u001b[39m \u001b[38;5;28;01mNone\u001b[39;00m \u001b[38;5;241m=\u001b[39m \u001b[38;5;28;01mNone\u001b[39;00m\n\u001b[0;32m-> 1620\u001b[0m \u001b[38;5;28mself\u001b[39m\u001b[38;5;241m.\u001b[39m_engine \u001b[38;5;241m=\u001b[39m \u001b[38;5;28;43mself\u001b[39;49m\u001b[38;5;241;43m.\u001b[39;49m\u001b[43m_make_engine\u001b[49m\u001b[43m(\u001b[49m\u001b[43mf\u001b[49m\u001b[43m,\u001b[49m\u001b[43m \u001b[49m\u001b[38;5;28;43mself\u001b[39;49m\u001b[38;5;241;43m.\u001b[39;49m\u001b[43mengine\u001b[49m\u001b[43m)\u001b[49m\n",
      "File \u001b[0;32m~/mambaforge/envs/ada/lib/python3.11/site-packages/pandas/io/parsers/readers.py:1880\u001b[0m, in \u001b[0;36mTextFileReader._make_engine\u001b[0;34m(self, f, engine)\u001b[0m\n\u001b[1;32m   1878\u001b[0m     \u001b[38;5;28;01mif\u001b[39;00m \u001b[38;5;124m\"\u001b[39m\u001b[38;5;124mb\u001b[39m\u001b[38;5;124m\"\u001b[39m \u001b[38;5;129;01mnot\u001b[39;00m \u001b[38;5;129;01min\u001b[39;00m mode:\n\u001b[1;32m   1879\u001b[0m         mode \u001b[38;5;241m+\u001b[39m\u001b[38;5;241m=\u001b[39m \u001b[38;5;124m\"\u001b[39m\u001b[38;5;124mb\u001b[39m\u001b[38;5;124m\"\u001b[39m\n\u001b[0;32m-> 1880\u001b[0m \u001b[38;5;28mself\u001b[39m\u001b[38;5;241m.\u001b[39mhandles \u001b[38;5;241m=\u001b[39m \u001b[43mget_handle\u001b[49m\u001b[43m(\u001b[49m\n\u001b[1;32m   1881\u001b[0m \u001b[43m    \u001b[49m\u001b[43mf\u001b[49m\u001b[43m,\u001b[49m\n\u001b[1;32m   1882\u001b[0m \u001b[43m    \u001b[49m\u001b[43mmode\u001b[49m\u001b[43m,\u001b[49m\n\u001b[1;32m   1883\u001b[0m \u001b[43m    \u001b[49m\u001b[43mencoding\u001b[49m\u001b[38;5;241;43m=\u001b[39;49m\u001b[38;5;28;43mself\u001b[39;49m\u001b[38;5;241;43m.\u001b[39;49m\u001b[43moptions\u001b[49m\u001b[38;5;241;43m.\u001b[39;49m\u001b[43mget\u001b[49m\u001b[43m(\u001b[49m\u001b[38;5;124;43m\"\u001b[39;49m\u001b[38;5;124;43mencoding\u001b[39;49m\u001b[38;5;124;43m\"\u001b[39;49m\u001b[43m,\u001b[49m\u001b[43m \u001b[49m\u001b[38;5;28;43;01mNone\u001b[39;49;00m\u001b[43m)\u001b[49m\u001b[43m,\u001b[49m\n\u001b[1;32m   1884\u001b[0m \u001b[43m    \u001b[49m\u001b[43mcompression\u001b[49m\u001b[38;5;241;43m=\u001b[39;49m\u001b[38;5;28;43mself\u001b[39;49m\u001b[38;5;241;43m.\u001b[39;49m\u001b[43moptions\u001b[49m\u001b[38;5;241;43m.\u001b[39;49m\u001b[43mget\u001b[49m\u001b[43m(\u001b[49m\u001b[38;5;124;43m\"\u001b[39;49m\u001b[38;5;124;43mcompression\u001b[39;49m\u001b[38;5;124;43m\"\u001b[39;49m\u001b[43m,\u001b[49m\u001b[43m \u001b[49m\u001b[38;5;28;43;01mNone\u001b[39;49;00m\u001b[43m)\u001b[49m\u001b[43m,\u001b[49m\n\u001b[1;32m   1885\u001b[0m \u001b[43m    \u001b[49m\u001b[43mmemory_map\u001b[49m\u001b[38;5;241;43m=\u001b[39;49m\u001b[38;5;28;43mself\u001b[39;49m\u001b[38;5;241;43m.\u001b[39;49m\u001b[43moptions\u001b[49m\u001b[38;5;241;43m.\u001b[39;49m\u001b[43mget\u001b[49m\u001b[43m(\u001b[49m\u001b[38;5;124;43m\"\u001b[39;49m\u001b[38;5;124;43mmemory_map\u001b[39;49m\u001b[38;5;124;43m\"\u001b[39;49m\u001b[43m,\u001b[49m\u001b[43m \u001b[49m\u001b[38;5;28;43;01mFalse\u001b[39;49;00m\u001b[43m)\u001b[49m\u001b[43m,\u001b[49m\n\u001b[1;32m   1886\u001b[0m \u001b[43m    \u001b[49m\u001b[43mis_text\u001b[49m\u001b[38;5;241;43m=\u001b[39;49m\u001b[43mis_text\u001b[49m\u001b[43m,\u001b[49m\n\u001b[1;32m   1887\u001b[0m \u001b[43m    \u001b[49m\u001b[43merrors\u001b[49m\u001b[38;5;241;43m=\u001b[39;49m\u001b[38;5;28;43mself\u001b[39;49m\u001b[38;5;241;43m.\u001b[39;49m\u001b[43moptions\u001b[49m\u001b[38;5;241;43m.\u001b[39;49m\u001b[43mget\u001b[49m\u001b[43m(\u001b[49m\u001b[38;5;124;43m\"\u001b[39;49m\u001b[38;5;124;43mencoding_errors\u001b[39;49m\u001b[38;5;124;43m\"\u001b[39;49m\u001b[43m,\u001b[49m\u001b[43m \u001b[49m\u001b[38;5;124;43m\"\u001b[39;49m\u001b[38;5;124;43mstrict\u001b[39;49m\u001b[38;5;124;43m\"\u001b[39;49m\u001b[43m)\u001b[49m\u001b[43m,\u001b[49m\n\u001b[1;32m   1888\u001b[0m \u001b[43m    \u001b[49m\u001b[43mstorage_options\u001b[49m\u001b[38;5;241;43m=\u001b[39;49m\u001b[38;5;28;43mself\u001b[39;49m\u001b[38;5;241;43m.\u001b[39;49m\u001b[43moptions\u001b[49m\u001b[38;5;241;43m.\u001b[39;49m\u001b[43mget\u001b[49m\u001b[43m(\u001b[49m\u001b[38;5;124;43m\"\u001b[39;49m\u001b[38;5;124;43mstorage_options\u001b[39;49m\u001b[38;5;124;43m\"\u001b[39;49m\u001b[43m,\u001b[49m\u001b[43m \u001b[49m\u001b[38;5;28;43;01mNone\u001b[39;49;00m\u001b[43m)\u001b[49m\u001b[43m,\u001b[49m\n\u001b[1;32m   1889\u001b[0m \u001b[43m\u001b[49m\u001b[43m)\u001b[49m\n\u001b[1;32m   1890\u001b[0m \u001b[38;5;28;01massert\u001b[39;00m \u001b[38;5;28mself\u001b[39m\u001b[38;5;241m.\u001b[39mhandles \u001b[38;5;129;01mis\u001b[39;00m \u001b[38;5;129;01mnot\u001b[39;00m \u001b[38;5;28;01mNone\u001b[39;00m\n\u001b[1;32m   1891\u001b[0m f \u001b[38;5;241m=\u001b[39m \u001b[38;5;28mself\u001b[39m\u001b[38;5;241m.\u001b[39mhandles\u001b[38;5;241m.\u001b[39mhandle\n",
      "File \u001b[0;32m~/mambaforge/envs/ada/lib/python3.11/site-packages/pandas/io/common.py:873\u001b[0m, in \u001b[0;36mget_handle\u001b[0;34m(path_or_buf, mode, encoding, compression, memory_map, is_text, errors, storage_options)\u001b[0m\n\u001b[1;32m    868\u001b[0m \u001b[38;5;28;01melif\u001b[39;00m \u001b[38;5;28misinstance\u001b[39m(handle, \u001b[38;5;28mstr\u001b[39m):\n\u001b[1;32m    869\u001b[0m     \u001b[38;5;66;03m# Check whether the filename is to be opened in binary mode.\u001b[39;00m\n\u001b[1;32m    870\u001b[0m     \u001b[38;5;66;03m# Binary mode does not support 'encoding' and 'newline'.\u001b[39;00m\n\u001b[1;32m    871\u001b[0m     \u001b[38;5;28;01mif\u001b[39;00m ioargs\u001b[38;5;241m.\u001b[39mencoding \u001b[38;5;129;01mand\u001b[39;00m \u001b[38;5;124m\"\u001b[39m\u001b[38;5;124mb\u001b[39m\u001b[38;5;124m\"\u001b[39m \u001b[38;5;129;01mnot\u001b[39;00m \u001b[38;5;129;01min\u001b[39;00m ioargs\u001b[38;5;241m.\u001b[39mmode:\n\u001b[1;32m    872\u001b[0m         \u001b[38;5;66;03m# Encoding\u001b[39;00m\n\u001b[0;32m--> 873\u001b[0m         handle \u001b[38;5;241m=\u001b[39m \u001b[38;5;28;43mopen\u001b[39;49m\u001b[43m(\u001b[49m\n\u001b[1;32m    874\u001b[0m \u001b[43m            \u001b[49m\u001b[43mhandle\u001b[49m\u001b[43m,\u001b[49m\n\u001b[1;32m    875\u001b[0m \u001b[43m            \u001b[49m\u001b[43mioargs\u001b[49m\u001b[38;5;241;43m.\u001b[39;49m\u001b[43mmode\u001b[49m\u001b[43m,\u001b[49m\n\u001b[1;32m    876\u001b[0m \u001b[43m            \u001b[49m\u001b[43mencoding\u001b[49m\u001b[38;5;241;43m=\u001b[39;49m\u001b[43mioargs\u001b[49m\u001b[38;5;241;43m.\u001b[39;49m\u001b[43mencoding\u001b[49m\u001b[43m,\u001b[49m\n\u001b[1;32m    877\u001b[0m \u001b[43m            \u001b[49m\u001b[43merrors\u001b[49m\u001b[38;5;241;43m=\u001b[39;49m\u001b[43merrors\u001b[49m\u001b[43m,\u001b[49m\n\u001b[1;32m    878\u001b[0m \u001b[43m            \u001b[49m\u001b[43mnewline\u001b[49m\u001b[38;5;241;43m=\u001b[39;49m\u001b[38;5;124;43m\"\u001b[39;49m\u001b[38;5;124;43m\"\u001b[39;49m\u001b[43m,\u001b[49m\n\u001b[1;32m    879\u001b[0m \u001b[43m        \u001b[49m\u001b[43m)\u001b[49m\n\u001b[1;32m    880\u001b[0m     \u001b[38;5;28;01melse\u001b[39;00m:\n\u001b[1;32m    881\u001b[0m         \u001b[38;5;66;03m# Binary mode\u001b[39;00m\n\u001b[1;32m    882\u001b[0m         handle \u001b[38;5;241m=\u001b[39m \u001b[38;5;28mopen\u001b[39m(handle, ioargs\u001b[38;5;241m.\u001b[39mmode)\n",
      "\u001b[0;31mFileNotFoundError\u001b[0m: [Errno 2] No such file or directory: 'data/output/base_data/raw_processed.csv'"
     ]
    }
   ],
   "source": [
    "df_raw = pd.read_csv('./data/output/base_data/raw_processed.csv')   \n",
    "df_processed = pd.read_csv('./data/output/base_data/paths_processed.csv')"
   ]
  },
  {
   "cell_type": "markdown",
   "metadata": {},
   "source": [
    "# 1. Compare Row counts"
   ]
  },
  {
   "cell_type": "code",
   "execution_count": 34,
   "metadata": {},
   "outputs": [
    {
     "name": "stdout",
     "output_type": "stream",
     "text": [
      "Total rows in raw data: 76193\n",
      "Total rows in processed data: 74140\n",
      "Paths removed during preprocessing: 2053\n"
     ]
    }
   ],
   "source": [
    "raw_row_count = df_raw.shape[0]\n",
    "processed_row_count = df_processed.shape[0]\n",
    "removed_paths = raw_row_count - processed_row_count\n",
    "\n",
    "print(f\"Total rows in raw data: {raw_row_count}\")\n",
    "print(f\"Total rows in processed data: {processed_row_count}\")\n",
    "print(f\"Paths removed during preprocessing: {removed_paths}\")\n"
   ]
  },
  {
   "cell_type": "markdown",
   "metadata": {},
   "source": [
    "# 2. Compare Path Completion Status"
   ]
  },
  {
   "cell_type": "code",
   "execution_count": 35,
   "metadata": {},
   "outputs": [
    {
     "name": "stdout",
     "output_type": "stream",
     "text": [
      "Raw Data - Finished/Unfinished Counts:\n",
      " finished\n",
      "True     51318\n",
      "False    24875\n",
      "Name: count, dtype: int64\n",
      "Processed Data - Finished/Unfinished Counts:\n",
      " finished\n",
      "True     51280\n",
      "False    22860\n",
      "Name: count, dtype: int64\n"
     ]
    }
   ],
   "source": [
    "# Count finished vs. unfinished in raw data\n",
    "raw_finished_counts = df_raw['finished'].value_counts()\n",
    "print(\"Raw Data - Finished/Unfinished Counts:\\n\", raw_finished_counts)\n",
    "\n",
    "# Count finished vs. unfinished in processed data\n",
    "processed_finished_counts = df_processed['finished'].value_counts()\n",
    "print(\"Processed Data - Finished/Unfinished Counts:\\n\", processed_finished_counts)\n"
   ]
  },
  {
   "cell_type": "markdown",
   "metadata": {},
   "source": [
    "# 3. Check Balance between finished and unfinished path\n"
   ]
  },
  {
   "cell_type": "code",
   "execution_count": 36,
   "metadata": {},
   "outputs": [
    {
     "name": "stdout",
     "output_type": "stream",
     "text": [
      "Percentage of finished paths in raw data: 67.35%\n",
      "Percentage of finished paths in processed data: 69.17%\n"
     ]
    }
   ],
   "source": [
    "# Calculate percentage of finished vs. unfinished paths in each dataset\n",
    "raw_finished_ratio = raw_finished_counts[True] / raw_row_count\n",
    "processed_finished_ratio = processed_finished_counts[True] / processed_row_count\n",
    "\n",
    "print(f\"Percentage of finished paths in raw data: {raw_finished_ratio:.2%}\")\n",
    "print(f\"Percentage of finished paths in processed data: {processed_finished_ratio:.2%}\")\n"
   ]
  },
  {
   "cell_type": "markdown",
   "metadata": {},
   "source": []
  },
  {
   "cell_type": "markdown",
   "metadata": {},
   "source": [
    "# 4. Find Most Frequent pages"
   ]
  },
  {
   "cell_type": "code",
   "execution_count": 49,
   "metadata": {},
   "outputs": [
    {
     "name": "stdout",
     "output_type": "stream",
     "text": [
      "Top 20 Most Frequent Pages (Hubs):\n",
      " [('<', 33307), ('United States', 12438), ('Europe', 5606), ('United Kingdom', 5321), ('England', 4550), ('Earth', 4209), ('Africa', 3586), ('World War II', 2930), ('North America', 2590), ('Animal', 2467), ('Human', 2402), ('Mammal', 2331), ('Brain', 2324), ('France', 2247), ('Germany', 2221), ('English language', 2026), ('Computer', 1951), ('Science', 1918), ('Theatre', 1901), ('Asteroid', 1892)]\n"
     ]
    }
   ],
   "source": [
    "# Convert path_list strings to actual lists if necessary\n",
    "df_processed['path_list'] = df_processed['path_list'].apply(lambda x: ast.literal_eval(x) if isinstance(x, str) else x)\n",
    "\n",
    "# Flatten the list of pages and count occurrences of each page\n",
    "all_pages = [page for path in df_processed['path_list'] for page in path]\n",
    "page_counts = Counter(all_pages)\n",
    "\n",
    "# Display the top 20 most frequent pages\n",
    "top_20_pages = page_counts.most_common(20)\n",
    "print(\"Top 20 Most Frequent Pages (Hubs):\\n\", top_20_pages)\n"
   ]
  },
  {
   "cell_type": "markdown",
   "metadata": {},
   "source": [
    "# Find most frequent pages using PageRank"
   ]
  },
  {
   "cell_type": "code",
   "execution_count": 52,
   "metadata": {},
   "outputs": [],
   "source": [
    "# Unweighted, directed graph\n",
    "G_unweighted = nx.DiGraph()\n",
    "for path in df_processed['path_list']:\n",
    "    nx.add_path(G_unweighted, path)\n",
    "\n",
    "# Weighted, directed graph based on the frequency of connections\n",
    "G_weighted = nx.DiGraph()\n",
    "for path in df_processed['path_list']:\n",
    "    for i in range(len(path) - 1):\n",
    "        source, target = path[i], path[i + 1]\n",
    "        if G_weighted.has_edge(source, target):\n",
    "            G_weighted[source][target]['weight'] += 1\n",
    "        else:\n",
    "            G_weighted.add_edge(source, target, weight=1)"
   ]
  },
  {
   "cell_type": "code",
   "execution_count": 53,
   "metadata": {},
   "outputs": [
    {
     "name": "stdout",
     "output_type": "stream",
     "text": [
      "Top Pages by Network Metrics:\n",
      "                 Degree Centrality  Betweenness Centrality  \\\n",
      "<                        1.290500                0.539928   \n",
      "United States            0.366595                0.022428   \n",
      "Europe                   0.203159                0.013779   \n",
      "United Kingdom           0.201484                0.011669   \n",
      "England                  0.175879                0.004324   \n",
      "Africa                   0.122996                0.011625   \n",
      "Earth                    0.082556                0.002377   \n",
      "World War II             0.150275                0.006469   \n",
      "North America            0.088777                0.005367   \n",
      "France                   0.137114                0.005085   \n",
      "\n",
      "                Closeness Centrality  PageRank  \n",
      "<                           0.748388  0.072120  \n",
      "United States               0.580175  0.028445  \n",
      "Europe                      0.535289  0.012747  \n",
      "United Kingdom              0.532153  0.012233  \n",
      "England                     0.507222  0.010827  \n",
      "Africa                      0.487290  0.008275  \n",
      "Earth                       0.477709  0.007101  \n",
      "World War II                0.518036  0.006931  \n",
      "North America               0.489975  0.005516  \n",
      "France                      0.517972  0.005164  \n"
     ]
    }
   ],
   "source": [
    "# Degree, Betweenness, Closeness Centrality, and PageRank for weighted graph\n",
    "degree_centrality = nx.degree_centrality(G_weighted)\n",
    "betweenness_centrality = nx.betweenness_centrality(G_weighted, weight='weight')\n",
    "closeness_centrality = nx.closeness_centrality(G_weighted)\n",
    "pagerank = nx.pagerank(G_weighted, weight='weight')\n",
    "\n",
    "# Combine into DataFrame for easy comparison\n",
    "metrics_df = pd.DataFrame({\n",
    "    'Degree Centrality': degree_centrality,\n",
    "    'Betweenness Centrality': betweenness_centrality,\n",
    "    'Closeness Centrality': closeness_centrality,\n",
    "    'PageRank': pagerank\n",
    "}).sort_values(by='PageRank', ascending=False)\n",
    "\n",
    "print(\"Top Pages by Network Metrics:\\n\", metrics_df.head(10))"
   ]
  },
  {
   "cell_type": "markdown",
   "metadata": {},
   "source": [
    "# 5. Number of ingoing and outgoing links for the top hubs"
   ]
  },
  {
   "cell_type": "code",
   "execution_count": 54,
   "metadata": {},
   "outputs": [
    {
     "name": "stdout",
     "output_type": "stream",
     "text": [
      "Top Pages with Ingoing and Outgoing Links:\n",
      "              Page  Ingoing Links  Outgoing Links\n",
      "0               <          33307           31088\n",
      "1   United States          12389           11854\n",
      "2          Europe           5565            5414\n",
      "3  United Kingdom           5300            5034\n",
      "4         England           4411            4195\n",
      "5          Africa           3490            3425\n",
      "6           Earth           4168            4035\n",
      "7    World War II           2895            2766\n",
      "8   North America           2547            2432\n",
      "9          France           2225            2077\n"
     ]
    }
   ],
   "source": [
    "# Select the top 10 pages by PageRank from metrics_df\n",
    "top_pages = metrics_df.head(10).index  # Extract the top page names based on PageRank\n",
    "\n",
    "# Calculate ingoing and outgoing link counts for top pages\n",
    "ingoing_outgoing_links = []\n",
    "for page in top_pages:\n",
    "    ingoing_links = G_weighted.in_degree(page, weight='weight')  # Number of ingoing links (weighted)\n",
    "    outgoing_links = G_weighted.out_degree(page, weight='weight')  # Number of outgoing links (weighted)\n",
    "    ingoing_outgoing_links.append((page, ingoing_links, outgoing_links))\n",
    "\n",
    "# Create a DataFrame for better visualization\n",
    "links_df = pd.DataFrame(ingoing_outgoing_links, columns=['Page', 'Ingoing Links', 'Outgoing Links'])\n",
    "print(\"Top Pages with Ingoing and Outgoing Links:\\n\", links_df)\n"
   ]
  },
  {
   "cell_type": "markdown",
   "metadata": {},
   "source": [
    "# 6. Categories"
   ]
  },
  {
   "cell_type": "code",
   "execution_count": null,
   "metadata": {},
   "outputs": [
    {
     "name": "stdout",
     "output_type": "stream",
     "text": [
      "Number of Paths by Start and End Categories:\n",
      " end_category             Art  Business Studies  Citizenship  Countries  \\\n",
      "start_category                                                           \n",
      "Art                        6                14           22         11   \n",
      "Business Studies          18                42           55         46   \n",
      "Citizenship               16                63          144         82   \n",
      "Countries                  7                31           71         65   \n",
      "Design and Technology     32                54          131         75   \n",
      "Everyday life             44               144          366        203   \n",
      "Geography                 90               247          589        412   \n",
      "History                   56                99          281        179   \n",
      "IT                         6                24           49         65   \n",
      "Language and literature   11                32          104         54   \n",
      "Mathematics                3                11           42         24   \n",
      "Music                     17                20           65         50   \n",
      "People                    43               142          269        166   \n",
      "Religion                  21                52           88         38   \n",
      "Science                  104               396          715        520   \n",
      "\n",
      "end_category             Design and Technology  Everyday life  Geography  \\\n",
      "start_category                                                             \n",
      "Art                                         14            121        111   \n",
      "Business Studies                            51            137        257   \n",
      "Citizenship                                121            360        590   \n",
      "Countries                                   50            179        430   \n",
      "Design and Technology                       99           1835        512   \n",
      "Everyday life                              462           1000       1274   \n",
      "Geography                                  503           1203       2820   \n",
      "History                                    234            531       1295   \n",
      "IT                                          44            232        303   \n",
      "Language and literature                     92            195        520   \n",
      "Mathematics                                 25            141        166   \n",
      "Music                                       57            113        234   \n",
      "People                                     228            610       1540   \n",
      "Religion                                    54            219        359   \n",
      "Science                                   2689           1509       3321   \n",
      "\n",
      "end_category             History   IT  Language and literature  Mathematics  \\\n",
      "start_category                                                                \n",
      "Art                           24   10                       10            1   \n",
      "Business Studies             114   14                       27            9   \n",
      "Citizenship                  244   49                       87           31   \n",
      "Countries                    106   25                       65           10   \n",
      "Design and Technology        256  160                       97           33   \n",
      "Everyday life                678  135                      230           87   \n",
      "Geography                   1119  237                      380          157   \n",
      "History                      584  146                      160           43   \n",
      "IT                           130   41                       55            8   \n",
      "Language and literature      209   37                       58           23   \n",
      "Mathematics                   45   21                       24            3   \n",
      "Music                        135   34                       45            9   \n",
      "People                       569  177                      223           73   \n",
      "Religion                     166   56                       57           22   \n",
      "Science                     2978  477                      509          190   \n",
      "\n",
      "end_category             Music  People  Religion  Science  \n",
      "start_category                                             \n",
      "Art                         23      69        16      135  \n",
      "Business Studies            26     139        27      268  \n",
      "Citizenship                 45     272        70      740  \n",
      "Countries                   44     175        34      414  \n",
      "Design and Technology       61     287        71      668  \n",
      "Everyday life              123     724       314     2026  \n",
      "Geography                  306    1415       371     2859  \n",
      "History                    122     604       213     1419  \n",
      "IT                          50     185        58      311  \n",
      "Language and literature     44     202        73     2265  \n",
      "Mathematics                 23     124        17      166  \n",
      "Music                       30     132        18      323  \n",
      "People                     140     727       207     1712  \n",
      "Religion                    42     270       125      420  \n",
      "Science                    388    1894       536     4073  \n"
     ]
    }
   ],
   "source": [
    "# Load categories data \n",
    "df_categories = pd.read_csv('./data/output/base_data/categories_processed.csv')\n",
    "df_categories = df_categories[['article_name', 'article_category_1']]\n",
    "df_categories = df_categories.rename(columns={'article_category_1': 'primary_category'})\n",
    "\n",
    "# Remove duplicates to ensure each article has a unique category\n",
    "df_categories = df_categories.drop_duplicates(subset=['article_name'])\n",
    "\n",
    "# Merge to add start category based on `source_link`\n",
    "df_processed = df_processed.merge(\n",
    "    df_categories,\n",
    "    left_on='source_link',\n",
    "    right_on='article_name',\n",
    "    how='left'\n",
    ").rename(columns={'primary_category': 'start_category'})\n",
    "\n",
    "# Merge to add end category based on `target_link`\n",
    "df_processed = df_processed.merge(\n",
    "    df_categories,\n",
    "    left_on='target_link',\n",
    "    right_on='article_name',\n",
    "    how='left'\n",
    ").rename(columns={'primary_category': 'end_category'})\n",
    "\n",
    "# Drop redundant columns from merging\n",
    "df_processed = df_processed.drop(columns=['article_name_x', 'article_name_y'])\n",
    "\n",
    "# Count paths that start in one category and end in another\n",
    "category_path_counts = df_processed.groupby(['start_category', 'end_category']).size().unstack(fill_value=0)\n",
    "\n",
    "# Display the result\n",
    "print(\"Number of Paths by Start and End Categories:\\n\", category_path_counts)"
   ]
  },
  {
   "cell_type": "code",
   "execution_count": 59,
   "metadata": {},
   "outputs": [
    {
     "name": "stdout",
     "output_type": "stream",
     "text": [
      "Top Start Categories:\n",
      " start_category\n",
      "Science                    20316\n",
      "Geography                  12725\n",
      "Everyday life               7815\n",
      "People                      6832\n",
      "History                     5970\n",
      "Design and Technology       4371\n",
      "Language and literature     3920\n",
      "Citizenship                 2915\n",
      "Religion                    1989\n",
      "Countries                   1708\n",
      "Name: count, dtype: int64\n",
      "\n",
      "Top Finish Categories:\n",
      " end_category\n",
      "Science                    17823\n",
      "Geography                  13745\n",
      "Everyday life               8400\n",
      "History                     7359\n",
      "People                      7226\n",
      "Design and Technology       4723\n",
      "Citizenship                 2991\n",
      "Religion                    2167\n",
      "Language and literature     2027\n",
      "Countries                   1992\n",
      "Name: count, dtype: int64\n"
     ]
    }
   ],
   "source": [
    "# Top Start Categories\n",
    "top_start_categories = df_processed['start_category'].value_counts().head(10)\n",
    "print(\"Top Start Categories:\\n\", top_start_categories)\n",
    "\n",
    "# Top Finish Categories\n",
    "top_finish_categories = df_processed['end_category'].value_counts().head(10)\n",
    "print(\"\\nTop Finish Categories:\\n\", top_finish_categories)\n",
    "\n"
   ]
  },
  {
   "cell_type": "code",
   "execution_count": 60,
   "metadata": {},
   "outputs": [
    {
     "name": "stdout",
     "output_type": "stream",
     "text": [
      "Most Common Categories Among Top Hubs:\n",
      " primary_category\n",
      "Geography    4\n",
      "Countries    3\n",
      "Science      1\n",
      "History      1\n",
      "Name: count, dtype: int64\n"
     ]
    }
   ],
   "source": [
    "# Assuming `top_pages` contains the names of the top hub pages\n",
    "# and `df_categories` has columns 'article_name' and 'primary_category'\n",
    "\n",
    "# Filter df_categories to only include the top hub pages\n",
    "hub_categories = df_categories[df_categories['article_name'].isin(top_pages)]\n",
    "\n",
    "# Count the most common categories among the top hubs\n",
    "top_hub_categories = hub_categories['primary_category'].value_counts().head(10)\n",
    "\n",
    "print(\"Most Common Categories Among Top Hubs:\\n\", top_hub_categories)"
   ]
  },
  {
   "cell_type": "code",
   "execution_count": null,
   "metadata": {},
   "outputs": [],
   "source": []
  }
 ],
 "metadata": {
  "kernelspec": {
   "display_name": "ada",
   "language": "python",
   "name": "python3"
  },
  "language_info": {
   "codemirror_mode": {
    "name": "ipython",
    "version": 3
   },
   "file_extension": ".py",
   "mimetype": "text/x-python",
   "name": "python",
   "nbconvert_exporter": "python",
   "pygments_lexer": "ipython3",
   "version": "3.11.10"
  }
 },
 "nbformat": 4,
 "nbformat_minor": 2
}
