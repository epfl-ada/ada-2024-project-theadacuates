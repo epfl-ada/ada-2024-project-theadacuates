{
 "cells": [
  {
   "cell_type": "markdown",
   "metadata": {},
   "source": [
    "# Entropy Analysis"
   ]
  },
  {
   "cell_type": "code",
   "execution_count": 1,
   "metadata": {},
   "outputs": [
    {
     "name": "stdout",
     "output_type": "stream",
     "text": [
      "/home/gabri/Desktop/ADA/ada-2024-project-theadacuates\n"
     ]
    }
   ],
   "source": [
    "import pandas as pd\n",
    "import os\n",
    "import numpy as np\n",
    "import ast\n",
    "import matplotlib.pyplot as plt\n",
    "from scipy import stats\n",
    "import seaborn as sns\n",
    "import networkx as nx\n",
    "\n",
    "os.chdir(\"./../..\")\n",
    "print(os.getcwd())\n",
    "\n",
    "\n",
    "SAVE_FOLDER = \"data/output/entropy_data\""
   ]
  },
  {
   "cell_type": "markdown",
   "metadata": {},
   "source": [
    "## 1. **Transition Matrix Overview**\n",
    "\n",
    "In order to calculate Entropy, we need the Transition Matrix.\n",
    "\n",
    "The **transition matrix** is a representation of how frequently users move from one article to another in a navigation path. The matrix shows transitions between articles and the probability of each transition.\n",
    "\n",
    "### Transition Matrix Types:\n",
    "- **With Both Finished and Unfinished Paths:** Includes all transitions, whether the user completed the journey or not.\n",
    "- **With Finished Paths:** Only includes transitions where the user reached a final goal or destination. --> not used\n",
    "\n",
    "**transition matrix** is calculated in the next session, together with the entropy.\n",
    "\n",
    "## 2. **Shannon Entropy for a Single Article**\n",
    "**Shannon Entropy** measures the unpredictability or randomness in user transitions from one article to others. If an article leads to many different next articles with roughly equal probabilities, the entropy will be high.\n",
    "\n",
    "The formula for Shannon Entropy \\( H(X) \\) is given by:\n",
    "\n",
    "$$\n",
    "H(X) = -\\sum_{i=1}^{n} p(x_i) \\log_2 p(x_i)\n",
    "$$\n",
    "\n",
    "Where:\n",
    "- **H(X)** is the Shannon entropy of the random variable **X**.\n",
    "- **p(x_i)** is the probability of occurrence of each possible outcome **x_i** (e.g., the probability of transitioning to a specific next article).\n",
    "- **n** is the total number of possible outcomes (next articles).\n",
    "\n",
    "\n",
    "\n",
    "  \n",
    "### High Entropy:\n",
    "- **Indicates:** Users are transitioning from this article to many different articles without a clear dominant choice.\n",
    "- **Possible Reasons:**\n",
    "  - **Cognitive Load:** Users might be uncertain about which link to click next or are exploring multiple options.\n",
    "  - **Unclear Navigation:** High-entropy areas may correspond to poor navigation design or overwhelming choices, leading to user confusion or cognitive overload.\n",
    "\n",
    "### Implications of High Entropy:\n",
    "- **Cognitive Overload:** Users may experience mental fatigue due to unclear paths.\n",
    "- **Exploration vs. Confusion:** It may be an indicator of either natural exploration or poor design, depending on the context.\n"
   ]
  },
  {
   "cell_type": "code",
   "execution_count": 2,
   "metadata": {},
   "outputs": [],
   "source": [
    "def calculate_entropy(transition_matrix):\n",
    "    # Initialize entropy\n",
    "    entropy = {}\n",
    "\n",
    "    # Calculate entropy for each source article\n",
    "    for source in transition_matrix.index:\n",
    "        # Get the probabilities for transitions from this source\n",
    "        probabilities = transition_matrix.loc[source]\n",
    "\n",
    "        # Calculate entropy, treating zero probabilities as contributing zero\n",
    "        entropy_value = 0\n",
    "        for p in probabilities:\n",
    "            if p > 0:  # Only calculate for non-zero probabilities\n",
    "                entropy_value -= p * np.log2(p)  # Use log2 for bits\n",
    "\n",
    "        # Store the entropy value for the source article\n",
    "        entropy[source] = entropy_value\n",
    "\n",
    "    return entropy\n"
   ]
  },
  {
   "cell_type": "markdown",
   "metadata": {},
   "source": [
    "### Create a list of all edges played in the game"
   ]
  },
  {
   "cell_type": "code",
   "execution_count": 3,
   "metadata": {},
   "outputs": [
    {
     "data": {
      "text/html": [
       "<div>\n",
       "<style scoped>\n",
       "    .dataframe tbody tr th:only-of-type {\n",
       "        vertical-align: middle;\n",
       "    }\n",
       "\n",
       "    .dataframe tbody tr th {\n",
       "        vertical-align: top;\n",
       "    }\n",
       "\n",
       "    .dataframe thead th {\n",
       "        text-align: right;\n",
       "    }\n",
       "</style>\n",
       "<table border=\"1\" class=\"dataframe\">\n",
       "  <thead>\n",
       "    <tr style=\"text-align: right;\">\n",
       "      <th></th>\n",
       "      <th>source</th>\n",
       "      <th>target</th>\n",
       "    </tr>\n",
       "  </thead>\n",
       "  <tbody>\n",
       "    <tr>\n",
       "      <th>0</th>\n",
       "      <td>14th century</td>\n",
       "      <td>15th century</td>\n",
       "    </tr>\n",
       "    <tr>\n",
       "      <th>1</th>\n",
       "      <td>15th century</td>\n",
       "      <td>16th century</td>\n",
       "    </tr>\n",
       "  </tbody>\n",
       "</table>\n",
       "</div>"
      ],
      "text/plain": [
       "         source        target\n",
       "0  14th century  15th century\n",
       "1  15th century  16th century"
      ]
     },
     "metadata": {},
     "output_type": "display_data"
    },
    {
     "name": "stdout",
     "output_type": "stream",
     "text": [
      "(398945, 2)\n"
     ]
    },
    {
     "data": {
      "text/html": [
       "<div>\n",
       "<style scoped>\n",
       "    .dataframe tbody tr th:only-of-type {\n",
       "        vertical-align: middle;\n",
       "    }\n",
       "\n",
       "    .dataframe tbody tr th {\n",
       "        vertical-align: top;\n",
       "    }\n",
       "\n",
       "    .dataframe thead th {\n",
       "        text-align: right;\n",
       "    }\n",
       "</style>\n",
       "<table border=\"1\" class=\"dataframe\">\n",
       "  <thead>\n",
       "    <tr style=\"text-align: right;\">\n",
       "      <th></th>\n",
       "      <th>article_name</th>\n",
       "      <th>article_name_encoded</th>\n",
       "      <th>article_id</th>\n",
       "    </tr>\n",
       "  </thead>\n",
       "  <tbody>\n",
       "    <tr>\n",
       "      <th>0</th>\n",
       "      <td>Áedán mac Gabráin</td>\n",
       "      <td>%C3%81ed%C3%A1n_mac_Gabr%C3%A1in</td>\n",
       "      <td>0</td>\n",
       "    </tr>\n",
       "    <tr>\n",
       "      <th>1</th>\n",
       "      <td>Åland</td>\n",
       "      <td>%C3%85land</td>\n",
       "      <td>1</td>\n",
       "    </tr>\n",
       "  </tbody>\n",
       "</table>\n",
       "</div>"
      ],
      "text/plain": [
       "        article_name              article_name_encoded  article_id\n",
       "0  Áedán mac Gabráin  %C3%81ed%C3%A1n_mac_Gabr%C3%A1in           0\n",
       "1              Åland                        %C3%85land           1"
      ]
     },
     "metadata": {},
     "output_type": "display_data"
    },
    {
     "data": {
      "text/html": [
       "<div>\n",
       "<style scoped>\n",
       "    .dataframe tbody tr th:only-of-type {\n",
       "        vertical-align: middle;\n",
       "    }\n",
       "\n",
       "    .dataframe tbody tr th {\n",
       "        vertical-align: top;\n",
       "    }\n",
       "\n",
       "    .dataframe thead th {\n",
       "        text-align: right;\n",
       "    }\n",
       "</style>\n",
       "<table border=\"1\" class=\"dataframe\">\n",
       "  <thead>\n",
       "    <tr style=\"text-align: right;\">\n",
       "      <th></th>\n",
       "      <th>source</th>\n",
       "      <th>target</th>\n",
       "      <th>link_source_id</th>\n",
       "      <th>link_target_id</th>\n",
       "    </tr>\n",
       "  </thead>\n",
       "  <tbody>\n",
       "    <tr>\n",
       "      <th>0</th>\n",
       "      <td>14th century</td>\n",
       "      <td>15th century</td>\n",
       "      <td>10</td>\n",
       "      <td>12</td>\n",
       "    </tr>\n",
       "    <tr>\n",
       "      <th>1</th>\n",
       "      <td>15th century</td>\n",
       "      <td>16th century</td>\n",
       "      <td>12</td>\n",
       "      <td>15</td>\n",
       "    </tr>\n",
       "  </tbody>\n",
       "</table>\n",
       "</div>"
      ],
      "text/plain": [
       "         source        target  link_source_id  link_target_id\n",
       "0  14th century  15th century              10              12\n",
       "1  15th century  16th century              12              15"
      ]
     },
     "metadata": {},
     "output_type": "display_data"
    },
    {
     "name": "stdout",
     "output_type": "stream",
     "text": [
      "(398945, 4)\n"
     ]
    }
   ],
   "source": [
    "#need to make a played links list \n",
    "df_all = pd.read_csv('data/output/processed_data/paths_processed.csv', low_memory=False)\n",
    "\n",
    "## this is an easy way to convert the object in resolve_path_list_name to an array of strings :D\n",
    "links_list =[]\n",
    "for path in df_all['resolved_path_list_name'].apply(ast.literal_eval):\n",
    "  for n in range(len(path)-1):\n",
    "    source = path[n]\n",
    "    target = path[n+1]\n",
    "    links_list.append((source, target))\n",
    "\n",
    "all_played_links_df = pd.DataFrame(links_list, columns=['source', 'target'])\n",
    "\n",
    "display(all_played_links_df.head(2))\n",
    "print(all_played_links_df.shape)\n",
    "\n",
    "# add id encoding of artcile id\n",
    "df_articles = pd.read_csv(\"data/output/processed_data/articles_processed.csv\")\n",
    "display(df_articles.head(2))\n",
    "\n",
    "\n",
    "all_played_links_df = all_played_links_df.merge(df_articles, how='left', left_on='source', right_on='article_name')\n",
    "all_played_links_df.drop(columns=[\"article_name_encoded\", \"article_name\"], inplace=True)\n",
    "all_played_links_df.rename(columns={\"article_id\": \"link_source_id\"}, inplace=True)\n",
    "\n",
    "all_played_links_df = all_played_links_df.merge(df_articles, how='left', left_on='target', right_on='article_name')\n",
    "all_played_links_df.drop(columns=[\"article_name_encoded\", \"article_name\"], inplace=True)\n",
    "all_played_links_df.rename(columns={\"article_id\": \"link_target_id\"}, inplace=True)\n",
    "\n",
    "display(all_played_links_df.head(2))\n",
    "print(all_played_links_df.shape)\n",
    "\n",
    "all_played_links_df.to_csv(os.path.join(SAVE_FOLDER, \"all_played_links_simple.csv\"), index = False)\n"
   ]
  },
  {
   "cell_type": "code",
   "execution_count": 4,
   "metadata": {},
   "outputs": [
    {
     "name": "stdout",
     "output_type": "stream",
     "text": [
      "Creating transition Matrix (taking into account back-steps)...\n",
      "Saving Transition matrix...\n",
      "Saved matrix.\n"
     ]
    }
   ],
   "source": [
    "# Check if the transition matrix already exists\n",
    "\n",
    "print(\"Creating transition Matrix (taking into account back-steps)...\")\n",
    "\n",
    "# Read df with all the steps (both in finished and unfinished paths)\n",
    "df_links = pd.read_csv(\"data/output/entropy_data/all_played_links_simple.csv\")\n",
    "df_articles = pd.read_csv(\"data/output/processed_data/articles_processed.csv\")\n",
    "\n",
    "# Create an empty transition matrix\n",
    "article_names = df_articles[\"article_id\"]\n",
    "empty_matrix = pd.DataFrame(0, index=article_names, columns=article_names)\n",
    "\n",
    "# Count occurrences of transitions\n",
    "for i, row in df_links.iterrows():\n",
    "    source = row[\"link_source_id\"]\n",
    "    target = row[\"link_target_id\"]\n",
    "    empty_matrix.loc[source, target] += 1\n",
    "\n",
    "# Step 3: Normalize to get probabilities\n",
    "row_sums = empty_matrix.sum(axis=1)\n",
    "row_sums[row_sums == 0] = 1  # Avoid division by zero\n",
    "transition_matrix = empty_matrix.div(row_sums, axis=0)\n",
    "\n",
    "# Display the transition matrix\n",
    "#print(\"Transition Matrix:\")\n",
    "#print(transition_matrix)\n",
    "\n",
    "# Save to CSV if needed\n",
    "print(\"Saving Transition matrix...\")\n",
    "transition_matrix.to_csv(\"data/output/entropy_data/transition_matrix.csv\")\n",
    "print(\"Saved matrix.\")\n"
   ]
  },
  {
   "cell_type": "code",
   "execution_count": 8,
   "metadata": {},
   "outputs": [
    {
     "name": "stdout",
     "output_type": "stream",
     "text": [
      "Entropy Values:\n"
     ]
    },
    {
     "data": {
      "text/html": [
       "<div>\n",
       "<style scoped>\n",
       "    .dataframe tbody tr th:only-of-type {\n",
       "        vertical-align: middle;\n",
       "    }\n",
       "\n",
       "    .dataframe tbody tr th {\n",
       "        vertical-align: top;\n",
       "    }\n",
       "\n",
       "    .dataframe thead th {\n",
       "        text-align: right;\n",
       "    }\n",
       "</style>\n",
       "<table border=\"1\" class=\"dataframe\">\n",
       "  <thead>\n",
       "    <tr style=\"text-align: right;\">\n",
       "      <th></th>\n",
       "      <th>article_id</th>\n",
       "      <th>entropy</th>\n",
       "      <th>article_name</th>\n",
       "    </tr>\n",
       "  </thead>\n",
       "  <tbody>\n",
       "    <tr>\n",
       "      <th>0</th>\n",
       "      <td>0</td>\n",
       "      <td>0.000000</td>\n",
       "      <td>Áedán mac Gabráin</td>\n",
       "    </tr>\n",
       "    <tr>\n",
       "      <th>1</th>\n",
       "      <td>1</td>\n",
       "      <td>1.584963</td>\n",
       "      <td>Åland</td>\n",
       "    </tr>\n",
       "    <tr>\n",
       "      <th>2</th>\n",
       "      <td>2</td>\n",
       "      <td>2.584963</td>\n",
       "      <td>Édouard Manet</td>\n",
       "    </tr>\n",
       "    <tr>\n",
       "      <th>3</th>\n",
       "      <td>3</td>\n",
       "      <td>1.351644</td>\n",
       "      <td>Éire</td>\n",
       "    </tr>\n",
       "    <tr>\n",
       "      <th>4</th>\n",
       "      <td>4</td>\n",
       "      <td>0.000000</td>\n",
       "      <td>Óengus I of the Picts</td>\n",
       "    </tr>\n",
       "    <tr>\n",
       "      <th>...</th>\n",
       "      <td>...</td>\n",
       "      <td>...</td>\n",
       "      <td>...</td>\n",
       "    </tr>\n",
       "    <tr>\n",
       "      <th>4599</th>\n",
       "      <td>4599</td>\n",
       "      <td>3.836592</td>\n",
       "      <td>Zionism</td>\n",
       "    </tr>\n",
       "    <tr>\n",
       "      <th>4600</th>\n",
       "      <td>4600</td>\n",
       "      <td>2.950212</td>\n",
       "      <td>Zirconium</td>\n",
       "    </tr>\n",
       "    <tr>\n",
       "      <th>4601</th>\n",
       "      <td>4601</td>\n",
       "      <td>3.572469</td>\n",
       "      <td>Zoroaster</td>\n",
       "    </tr>\n",
       "    <tr>\n",
       "      <th>4602</th>\n",
       "      <td>4602</td>\n",
       "      <td>0.000000</td>\n",
       "      <td>Zuid-Gelders</td>\n",
       "    </tr>\n",
       "    <tr>\n",
       "      <th>4603</th>\n",
       "      <td>4603</td>\n",
       "      <td>2.799861</td>\n",
       "      <td>Zulu</td>\n",
       "    </tr>\n",
       "  </tbody>\n",
       "</table>\n",
       "<p>4604 rows × 3 columns</p>\n",
       "</div>"
      ],
      "text/plain": [
       "      article_id   entropy           article_name\n",
       "0              0  0.000000      Áedán mac Gabráin\n",
       "1              1  1.584963                  Åland\n",
       "2              2  2.584963          Édouard Manet\n",
       "3              3  1.351644                   Éire\n",
       "4              4  0.000000  Óengus I of the Picts\n",
       "...          ...       ...                    ...\n",
       "4599        4599  3.836592                Zionism\n",
       "4600        4600  2.950212              Zirconium\n",
       "4601        4601  3.572469              Zoroaster\n",
       "4602        4602  0.000000           Zuid-Gelders\n",
       "4603        4603  2.799861                   Zulu\n",
       "\n",
       "[4604 rows x 3 columns]"
      ]
     },
     "metadata": {},
     "output_type": "display_data"
    }
   ],
   "source": [
    "# Load transition Matrix\n",
    "transition_matrix = pd.read_csv(\"data/output/entropy_data/transition_matrix.csv\", index_col=0)\n",
    "transition_matrix = transition_matrix.astype(float)  # Ensure the data type is float\n",
    "df_articles = pd.read_csv(\"data/output/processed_data/articles_processed.csv\")\n",
    "\n",
    "# Caluclate Entropy\n",
    "entropy_dict = calculate_entropy(transition_matrix)\n",
    "entropy_df = pd.DataFrame(list(entropy_dict.items()), columns=['article_id', 'entropy'])\n",
    "entropy_df[\"article_name\"] = df_articles[\"article_name\"]\n",
    "print(\"Entropy Values:\")\n",
    "display(entropy_df)\n",
    "\n",
    "entropy_df.to_csv(\"data/output/entropy_data/entropy_per_article.csv\")\n"
   ]
  },
  {
   "cell_type": "code",
   "execution_count": 6,
   "metadata": {},
   "outputs": [
    {
     "name": "stdout",
     "output_type": "stream",
     "text": [
      "(0, 4604)\n",
      "(0, 3)\n"
     ]
    },
    {
     "data": {
      "text/html": [
       "<div>\n",
       "<style scoped>\n",
       "    .dataframe tbody tr th:only-of-type {\n",
       "        vertical-align: middle;\n",
       "    }\n",
       "\n",
       "    .dataframe tbody tr th {\n",
       "        vertical-align: top;\n",
       "    }\n",
       "\n",
       "    .dataframe thead th {\n",
       "        text-align: right;\n",
       "    }\n",
       "</style>\n",
       "<table border=\"1\" class=\"dataframe\">\n",
       "  <thead>\n",
       "    <tr style=\"text-align: right;\">\n",
       "      <th></th>\n",
       "      <th>article_id</th>\n",
       "      <th>entropy</th>\n",
       "      <th>article_name</th>\n",
       "    </tr>\n",
       "  </thead>\n",
       "  <tbody>\n",
       "  </tbody>\n",
       "</table>\n",
       "</div>"
      ],
      "text/plain": [
       "Empty DataFrame\n",
       "Columns: [article_id, entropy, article_name]\n",
       "Index: []"
      ]
     },
     "execution_count": 6,
     "metadata": {},
     "output_type": "execute_result"
    }
   ],
   "source": [
    "#checj for nan\n",
    "missing_rows = transition_matrix[transition_matrix.isnull().any(axis=1)]\n",
    "print(missing_rows.shape)\n",
    "missing_rows\n",
    "\n",
    "missing_rows = entropy_df[entropy_df.isnull().any(axis=1)]\n",
    "print(missing_rows.shape)\n",
    "missing_rows"
   ]
  },
  {
   "cell_type": "markdown",
   "metadata": {},
   "source": [
    "## 3. **Path-Based Entropy Analysis**\n",
    "\n",
    "### Average Entropy of a Path:\n",
    "- For each path, we calculate the **entropy of the source article** and accumulate it for the entire path. This gives a sense of how predictable or unpredictable the navigation experience is for that user journey."
   ]
  },
  {
   "cell_type": "code",
   "execution_count": null,
   "metadata": {},
   "outputs": [
    {
     "data": {
      "text/html": [
       "<div>\n",
       "<style scoped>\n",
       "    .dataframe tbody tr th:only-of-type {\n",
       "        vertical-align: middle;\n",
       "    }\n",
       "\n",
       "    .dataframe tbody tr th {\n",
       "        vertical-align: top;\n",
       "    }\n",
       "\n",
       "    .dataframe thead th {\n",
       "        text-align: right;\n",
       "    }\n",
       "</style>\n",
       "<table border=\"1\" class=\"dataframe\">\n",
       "  <thead>\n",
       "    <tr style=\"text-align: right;\">\n",
       "      <th></th>\n",
       "      <th>hashed_ip</th>\n",
       "      <th>timestamp</th>\n",
       "      <th>duration</th>\n",
       "      <th>path</th>\n",
       "      <th>rating</th>\n",
       "      <th>path_list</th>\n",
       "      <th>source_link</th>\n",
       "      <th>target_link</th>\n",
       "      <th>finished</th>\n",
       "      <th>type_unfinished</th>\n",
       "      <th>n_click</th>\n",
       "      <th>n_back</th>\n",
       "      <th>date</th>\n",
       "      <th>click_rate</th>\n",
       "      <th>normalized_duration</th>\n",
       "      <th>freq_back</th>\n",
       "      <th>path_list_id</th>\n",
       "      <th>resolved_path_list_id</th>\n",
       "      <th>resolved_path_list_name</th>\n",
       "      <th>entropy_path</th>\n",
       "    </tr>\n",
       "  </thead>\n",
       "  <tbody>\n",
       "    <tr>\n",
       "      <th>0</th>\n",
       "      <td>6a3701d319fc3754</td>\n",
       "      <td>1297740409</td>\n",
       "      <td>166</td>\n",
       "      <td>14th_century;15th_century;16th_century;Pacific...</td>\n",
       "      <td>NaN</td>\n",
       "      <td>['14th century', '15th century', '16th century...</td>\n",
       "      <td>14th century</td>\n",
       "      <td>African slave trade</td>\n",
       "      <td>True</td>\n",
       "      <td>NaN</td>\n",
       "      <td>9</td>\n",
       "      <td>0</td>\n",
       "      <td>2011-02-15 04:26:49</td>\n",
       "      <td>0.054217</td>\n",
       "      <td>18.444444</td>\n",
       "      <td>0.0</td>\n",
       "      <td>[10, 12, 15, 3134, 377, 105, 128, 379, 143]</td>\n",
       "      <td>[10, 12, 15, 3134, 377, 105, 128, 379, 143]</td>\n",
       "      <td>['14th century', '15th century', '16th century...</td>\n",
       "      <td>4.720552</td>\n",
       "    </tr>\n",
       "    <tr>\n",
       "      <th>1</th>\n",
       "      <td>3824310e536af032</td>\n",
       "      <td>1344753412</td>\n",
       "      <td>88</td>\n",
       "      <td>14th_century;Europe;Africa;Atlantic_slave_trad...</td>\n",
       "      <td>3.0</td>\n",
       "      <td>['14th century', 'Europe', 'Africa', 'Atlantic...</td>\n",
       "      <td>14th century</td>\n",
       "      <td>African slave trade</td>\n",
       "      <td>True</td>\n",
       "      <td>NaN</td>\n",
       "      <td>5</td>\n",
       "      <td>0</td>\n",
       "      <td>2012-08-12 08:36:52</td>\n",
       "      <td>0.056818</td>\n",
       "      <td>17.600000</td>\n",
       "      <td>0.0</td>\n",
       "      <td>[10, 1433, 128, 379, 143]</td>\n",
       "      <td>[10, 1433, 128, 379, 143]</td>\n",
       "      <td>['14th century', 'Europe', 'Africa', 'Atlantic...</td>\n",
       "      <td>5.046673</td>\n",
       "    </tr>\n",
       "    <tr>\n",
       "      <th>2</th>\n",
       "      <td>415612e93584d30e</td>\n",
       "      <td>1349298640</td>\n",
       "      <td>138</td>\n",
       "      <td>14th_century;Niger;Nigeria;British_Empire;Slav...</td>\n",
       "      <td>NaN</td>\n",
       "      <td>['14th century', 'Niger', 'Nigeria', 'British ...</td>\n",
       "      <td>14th century</td>\n",
       "      <td>African slave trade</td>\n",
       "      <td>True</td>\n",
       "      <td>NaN</td>\n",
       "      <td>8</td>\n",
       "      <td>0</td>\n",
       "      <td>2012-10-03 23:10:40</td>\n",
       "      <td>0.057971</td>\n",
       "      <td>17.250000</td>\n",
       "      <td>0.0</td>\n",
       "      <td>[10, 2982, 2984, 694, 3755, 128, 379, 143]</td>\n",
       "      <td>[10, 2982, 2984, 694, 3755, 128, 379, 143]</td>\n",
       "      <td>['14th century', 'Niger', 'Nigeria', 'British ...</td>\n",
       "      <td>4.758226</td>\n",
       "    </tr>\n",
       "  </tbody>\n",
       "</table>\n",
       "</div>"
      ],
      "text/plain": [
       "          hashed_ip   timestamp  duration  \\\n",
       "0  6a3701d319fc3754  1297740409       166   \n",
       "1  3824310e536af032  1344753412        88   \n",
       "2  415612e93584d30e  1349298640       138   \n",
       "\n",
       "                                                path  rating  \\\n",
       "0  14th_century;15th_century;16th_century;Pacific...     NaN   \n",
       "1  14th_century;Europe;Africa;Atlantic_slave_trad...     3.0   \n",
       "2  14th_century;Niger;Nigeria;British_Empire;Slav...     NaN   \n",
       "\n",
       "                                           path_list   source_link  \\\n",
       "0  ['14th century', '15th century', '16th century...  14th century   \n",
       "1  ['14th century', 'Europe', 'Africa', 'Atlantic...  14th century   \n",
       "2  ['14th century', 'Niger', 'Nigeria', 'British ...  14th century   \n",
       "\n",
       "           target_link  finished type_unfinished  n_click  n_back  \\\n",
       "0  African slave trade      True             NaN        9       0   \n",
       "1  African slave trade      True             NaN        5       0   \n",
       "2  African slave trade      True             NaN        8       0   \n",
       "\n",
       "                  date  click_rate  normalized_duration  freq_back  \\\n",
       "0  2011-02-15 04:26:49    0.054217            18.444444        0.0   \n",
       "1  2012-08-12 08:36:52    0.056818            17.600000        0.0   \n",
       "2  2012-10-03 23:10:40    0.057971            17.250000        0.0   \n",
       "\n",
       "                                  path_list_id  \\\n",
       "0  [10, 12, 15, 3134, 377, 105, 128, 379, 143]   \n",
       "1                    [10, 1433, 128, 379, 143]   \n",
       "2   [10, 2982, 2984, 694, 3755, 128, 379, 143]   \n",
       "\n",
       "                         resolved_path_list_id  \\\n",
       "0  [10, 12, 15, 3134, 377, 105, 128, 379, 143]   \n",
       "1                    [10, 1433, 128, 379, 143]   \n",
       "2   [10, 2982, 2984, 694, 3755, 128, 379, 143]   \n",
       "\n",
       "                             resolved_path_list_name  entropy_path  \n",
       "0  ['14th century', '15th century', '16th century...      4.720552  \n",
       "1  ['14th century', 'Europe', 'Africa', 'Atlantic...      5.046673  \n",
       "2  ['14th century', 'Niger', 'Nigeria', 'British ...      4.758226  "
      ]
     },
     "metadata": {},
     "output_type": "display_data"
    }
   ],
   "source": [
    "df_paths = pd.read_csv(\"data/output/processed_data/paths_processed.csv\", low_memory=False)\n",
    "#display(df_paths)\n",
    "\n",
    "#dict that map each srticle to the relative entripy\n",
    "mapping_dict_entropy = pd.Series(entropy_df.entropy.values, index=entropy_df.article_id).to_dict()\n",
    "\n",
    "#print(mapping_dict_entropy)\n",
    "\n",
    "mean_entropies_path = []\n",
    "for i, row in df_paths.iterrows():\n",
    "    resolved_path_list_id = ast.literal_eval(row[\"resolved_path_list_id\"])\n",
    "    #print(resolved_path_list_id)\n",
    "    if row[\"finished\"] == True:\n",
    "        # remove last elements (there is NO uncertaly after, the game is finsihed)\n",
    "        resolved_path_list_id = resolved_path_list_id[:-1]\n",
    "    #print(resolved_path_list_id)\n",
    "    path_entropies = [mapping_dict_entropy[item] for item in resolved_path_list_id]  \n",
    "    #print(path_entropies)\n",
    "    mean_entropy = np.mean(path_entropies)\n",
    "    if mean_entropy == None:\n",
    "        print(i) \n",
    "    mean_entropies_path.append(mean_entropy)\n",
    "    #print(f\"{i}/{df_paths.shape[0]} --> {100*i/df_paths.shape[0]:.2f}%\")\n",
    "\n",
    "\n",
    "df_paths[\"entropy_path\"] = mean_entropies_path\n",
    "\n",
    "display(df_paths.head(3))\n",
    "\n",
    "# Save\n",
    "df_paths.to_csv(os.path.join(SAVE_FOLDER, \"entropy_per_path.csv\"), index = False)\n"
   ]
  },
  {
   "cell_type": "markdown",
   "metadata": {},
   "source": [
    "## 4. **Plots**\n",
    "- **Transition Matrix Graphs:** Visualize the transition probabilities between articles to easily spot high-frequency paths and anomalies."
   ]
  },
  {
   "cell_type": "markdown",
   "metadata": {},
   "source": [
    "### Transition matrix Graph"
   ]
  },
  {
   "cell_type": "code",
   "execution_count": 9,
   "metadata": {},
   "outputs": [
    {
     "name": "stdout",
     "output_type": "stream",
     "text": [
      "Number of nodes (4604, 4604)\n"
     ]
    },
    {
     "data": {
      "text/html": [
       "<div>\n",
       "<style scoped>\n",
       "    .dataframe tbody tr th:only-of-type {\n",
       "        vertical-align: middle;\n",
       "    }\n",
       "\n",
       "    .dataframe tbody tr th {\n",
       "        vertical-align: top;\n",
       "    }\n",
       "\n",
       "    .dataframe thead th {\n",
       "        text-align: right;\n",
       "    }\n",
       "</style>\n",
       "<table border=\"1\" class=\"dataframe\">\n",
       "  <thead>\n",
       "    <tr style=\"text-align: right;\">\n",
       "      <th>article_name</th>\n",
       "      <th>Áedán mac Gabráin</th>\n",
       "      <th>Åland</th>\n",
       "      <th>Édouard Manet</th>\n",
       "      <th>Éire</th>\n",
       "      <th>Óengus I of the Picts</th>\n",
       "      <th>€2 commemorative coins</th>\n",
       "      <th>10th century</th>\n",
       "      <th>11th century</th>\n",
       "      <th>12th century</th>\n",
       "      <th>13th century</th>\n",
       "      <th>...</th>\n",
       "      <th>Ziad Jarrah</th>\n",
       "      <th>Zimbabwe</th>\n",
       "      <th>Zinc</th>\n",
       "      <th>Zinc chloride</th>\n",
       "      <th>Zion National Park</th>\n",
       "      <th>Zionism</th>\n",
       "      <th>Zirconium</th>\n",
       "      <th>Zoroaster</th>\n",
       "      <th>Zuid-Gelders</th>\n",
       "      <th>Zulu</th>\n",
       "    </tr>\n",
       "    <tr>\n",
       "      <th>article_name</th>\n",
       "      <th></th>\n",
       "      <th></th>\n",
       "      <th></th>\n",
       "      <th></th>\n",
       "      <th></th>\n",
       "      <th></th>\n",
       "      <th></th>\n",
       "      <th></th>\n",
       "      <th></th>\n",
       "      <th></th>\n",
       "      <th></th>\n",
       "      <th></th>\n",
       "      <th></th>\n",
       "      <th></th>\n",
       "      <th></th>\n",
       "      <th></th>\n",
       "      <th></th>\n",
       "      <th></th>\n",
       "      <th></th>\n",
       "      <th></th>\n",
       "      <th></th>\n",
       "    </tr>\n",
       "  </thead>\n",
       "  <tbody>\n",
       "    <tr>\n",
       "      <th>Áedán mac Gabráin</th>\n",
       "      <td>0.0</td>\n",
       "      <td>0.0</td>\n",
       "      <td>0.0</td>\n",
       "      <td>0.0</td>\n",
       "      <td>0.0</td>\n",
       "      <td>0.0</td>\n",
       "      <td>0.0</td>\n",
       "      <td>0.0</td>\n",
       "      <td>0.0</td>\n",
       "      <td>0.0</td>\n",
       "      <td>...</td>\n",
       "      <td>0.0</td>\n",
       "      <td>0.0</td>\n",
       "      <td>0.0</td>\n",
       "      <td>0.0</td>\n",
       "      <td>0.0</td>\n",
       "      <td>0.0</td>\n",
       "      <td>0.0</td>\n",
       "      <td>0.0</td>\n",
       "      <td>0.0</td>\n",
       "      <td>0.0</td>\n",
       "    </tr>\n",
       "    <tr>\n",
       "      <th>Åland</th>\n",
       "      <td>0.0</td>\n",
       "      <td>0.0</td>\n",
       "      <td>0.0</td>\n",
       "      <td>0.0</td>\n",
       "      <td>0.0</td>\n",
       "      <td>0.0</td>\n",
       "      <td>0.0</td>\n",
       "      <td>0.0</td>\n",
       "      <td>0.0</td>\n",
       "      <td>0.0</td>\n",
       "      <td>...</td>\n",
       "      <td>0.0</td>\n",
       "      <td>0.0</td>\n",
       "      <td>0.0</td>\n",
       "      <td>0.0</td>\n",
       "      <td>0.0</td>\n",
       "      <td>0.0</td>\n",
       "      <td>0.0</td>\n",
       "      <td>0.0</td>\n",
       "      <td>0.0</td>\n",
       "      <td>0.0</td>\n",
       "    </tr>\n",
       "    <tr>\n",
       "      <th>Édouard Manet</th>\n",
       "      <td>0.0</td>\n",
       "      <td>0.0</td>\n",
       "      <td>0.0</td>\n",
       "      <td>0.0</td>\n",
       "      <td>0.0</td>\n",
       "      <td>0.0</td>\n",
       "      <td>0.0</td>\n",
       "      <td>0.0</td>\n",
       "      <td>0.0</td>\n",
       "      <td>0.0</td>\n",
       "      <td>...</td>\n",
       "      <td>0.0</td>\n",
       "      <td>0.0</td>\n",
       "      <td>0.0</td>\n",
       "      <td>0.0</td>\n",
       "      <td>0.0</td>\n",
       "      <td>0.0</td>\n",
       "      <td>0.0</td>\n",
       "      <td>0.0</td>\n",
       "      <td>0.0</td>\n",
       "      <td>0.0</td>\n",
       "    </tr>\n",
       "    <tr>\n",
       "      <th>Éire</th>\n",
       "      <td>0.0</td>\n",
       "      <td>0.0</td>\n",
       "      <td>0.0</td>\n",
       "      <td>0.0</td>\n",
       "      <td>0.0</td>\n",
       "      <td>0.0</td>\n",
       "      <td>0.0</td>\n",
       "      <td>0.0</td>\n",
       "      <td>0.0</td>\n",
       "      <td>0.0</td>\n",
       "      <td>...</td>\n",
       "      <td>0.0</td>\n",
       "      <td>0.0</td>\n",
       "      <td>0.0</td>\n",
       "      <td>0.0</td>\n",
       "      <td>0.0</td>\n",
       "      <td>0.0</td>\n",
       "      <td>0.0</td>\n",
       "      <td>0.0</td>\n",
       "      <td>0.0</td>\n",
       "      <td>0.0</td>\n",
       "    </tr>\n",
       "    <tr>\n",
       "      <th>Óengus I of the Picts</th>\n",
       "      <td>0.0</td>\n",
       "      <td>0.0</td>\n",
       "      <td>0.0</td>\n",
       "      <td>0.0</td>\n",
       "      <td>0.0</td>\n",
       "      <td>0.0</td>\n",
       "      <td>0.0</td>\n",
       "      <td>0.0</td>\n",
       "      <td>0.0</td>\n",
       "      <td>0.0</td>\n",
       "      <td>...</td>\n",
       "      <td>0.0</td>\n",
       "      <td>0.0</td>\n",
       "      <td>0.0</td>\n",
       "      <td>0.0</td>\n",
       "      <td>0.0</td>\n",
       "      <td>0.0</td>\n",
       "      <td>0.0</td>\n",
       "      <td>0.0</td>\n",
       "      <td>0.0</td>\n",
       "      <td>0.0</td>\n",
       "    </tr>\n",
       "    <tr>\n",
       "      <th>...</th>\n",
       "      <td>...</td>\n",
       "      <td>...</td>\n",
       "      <td>...</td>\n",
       "      <td>...</td>\n",
       "      <td>...</td>\n",
       "      <td>...</td>\n",
       "      <td>...</td>\n",
       "      <td>...</td>\n",
       "      <td>...</td>\n",
       "      <td>...</td>\n",
       "      <td>...</td>\n",
       "      <td>...</td>\n",
       "      <td>...</td>\n",
       "      <td>...</td>\n",
       "      <td>...</td>\n",
       "      <td>...</td>\n",
       "      <td>...</td>\n",
       "      <td>...</td>\n",
       "      <td>...</td>\n",
       "      <td>...</td>\n",
       "      <td>...</td>\n",
       "    </tr>\n",
       "    <tr>\n",
       "      <th>Zionism</th>\n",
       "      <td>0.0</td>\n",
       "      <td>0.0</td>\n",
       "      <td>0.0</td>\n",
       "      <td>0.0</td>\n",
       "      <td>0.0</td>\n",
       "      <td>0.0</td>\n",
       "      <td>0.0</td>\n",
       "      <td>0.0</td>\n",
       "      <td>0.0</td>\n",
       "      <td>0.0</td>\n",
       "      <td>...</td>\n",
       "      <td>0.0</td>\n",
       "      <td>0.0</td>\n",
       "      <td>0.0</td>\n",
       "      <td>0.0</td>\n",
       "      <td>0.0</td>\n",
       "      <td>0.0</td>\n",
       "      <td>0.0</td>\n",
       "      <td>0.0</td>\n",
       "      <td>0.0</td>\n",
       "      <td>0.0</td>\n",
       "    </tr>\n",
       "    <tr>\n",
       "      <th>Zirconium</th>\n",
       "      <td>0.0</td>\n",
       "      <td>0.0</td>\n",
       "      <td>0.0</td>\n",
       "      <td>0.0</td>\n",
       "      <td>0.0</td>\n",
       "      <td>0.0</td>\n",
       "      <td>0.0</td>\n",
       "      <td>0.0</td>\n",
       "      <td>0.0</td>\n",
       "      <td>0.0</td>\n",
       "      <td>...</td>\n",
       "      <td>0.0</td>\n",
       "      <td>0.0</td>\n",
       "      <td>0.0</td>\n",
       "      <td>0.0</td>\n",
       "      <td>0.0</td>\n",
       "      <td>0.0</td>\n",
       "      <td>0.0</td>\n",
       "      <td>0.0</td>\n",
       "      <td>0.0</td>\n",
       "      <td>0.0</td>\n",
       "    </tr>\n",
       "    <tr>\n",
       "      <th>Zoroaster</th>\n",
       "      <td>0.0</td>\n",
       "      <td>0.0</td>\n",
       "      <td>0.0</td>\n",
       "      <td>0.0</td>\n",
       "      <td>0.0</td>\n",
       "      <td>0.0</td>\n",
       "      <td>0.0</td>\n",
       "      <td>0.0</td>\n",
       "      <td>0.0</td>\n",
       "      <td>0.0</td>\n",
       "      <td>...</td>\n",
       "      <td>0.0</td>\n",
       "      <td>0.0</td>\n",
       "      <td>0.0</td>\n",
       "      <td>0.0</td>\n",
       "      <td>0.0</td>\n",
       "      <td>0.0</td>\n",
       "      <td>0.0</td>\n",
       "      <td>0.0</td>\n",
       "      <td>0.0</td>\n",
       "      <td>0.0</td>\n",
       "    </tr>\n",
       "    <tr>\n",
       "      <th>Zuid-Gelders</th>\n",
       "      <td>0.0</td>\n",
       "      <td>0.0</td>\n",
       "      <td>0.0</td>\n",
       "      <td>0.0</td>\n",
       "      <td>0.0</td>\n",
       "      <td>0.0</td>\n",
       "      <td>0.0</td>\n",
       "      <td>0.0</td>\n",
       "      <td>0.0</td>\n",
       "      <td>0.0</td>\n",
       "      <td>...</td>\n",
       "      <td>0.0</td>\n",
       "      <td>0.0</td>\n",
       "      <td>0.0</td>\n",
       "      <td>0.0</td>\n",
       "      <td>0.0</td>\n",
       "      <td>0.0</td>\n",
       "      <td>0.0</td>\n",
       "      <td>0.0</td>\n",
       "      <td>0.0</td>\n",
       "      <td>0.0</td>\n",
       "    </tr>\n",
       "    <tr>\n",
       "      <th>Zulu</th>\n",
       "      <td>0.0</td>\n",
       "      <td>0.0</td>\n",
       "      <td>0.0</td>\n",
       "      <td>0.0</td>\n",
       "      <td>0.0</td>\n",
       "      <td>0.0</td>\n",
       "      <td>0.0</td>\n",
       "      <td>0.0</td>\n",
       "      <td>0.0</td>\n",
       "      <td>0.0</td>\n",
       "      <td>...</td>\n",
       "      <td>0.0</td>\n",
       "      <td>0.0</td>\n",
       "      <td>0.0</td>\n",
       "      <td>0.0</td>\n",
       "      <td>0.0</td>\n",
       "      <td>0.0</td>\n",
       "      <td>0.0</td>\n",
       "      <td>0.0</td>\n",
       "      <td>0.0</td>\n",
       "      <td>0.0</td>\n",
       "    </tr>\n",
       "  </tbody>\n",
       "</table>\n",
       "<p>4604 rows × 4604 columns</p>\n",
       "</div>"
      ],
      "text/plain": [
       "article_name           Áedán mac Gabráin  Åland  Édouard Manet  Éire  \\\n",
       "article_name                                                           \n",
       "Áedán mac Gabráin                    0.0    0.0            0.0   0.0   \n",
       "Åland                                0.0    0.0            0.0   0.0   \n",
       "Édouard Manet                        0.0    0.0            0.0   0.0   \n",
       "Éire                                 0.0    0.0            0.0   0.0   \n",
       "Óengus I of the Picts                0.0    0.0            0.0   0.0   \n",
       "...                                  ...    ...            ...   ...   \n",
       "Zionism                              0.0    0.0            0.0   0.0   \n",
       "Zirconium                            0.0    0.0            0.0   0.0   \n",
       "Zoroaster                            0.0    0.0            0.0   0.0   \n",
       "Zuid-Gelders                         0.0    0.0            0.0   0.0   \n",
       "Zulu                                 0.0    0.0            0.0   0.0   \n",
       "\n",
       "article_name           Óengus I of the Picts  €2 commemorative coins  \\\n",
       "article_name                                                           \n",
       "Áedán mac Gabráin                        0.0                     0.0   \n",
       "Åland                                    0.0                     0.0   \n",
       "Édouard Manet                            0.0                     0.0   \n",
       "Éire                                     0.0                     0.0   \n",
       "Óengus I of the Picts                    0.0                     0.0   \n",
       "...                                      ...                     ...   \n",
       "Zionism                                  0.0                     0.0   \n",
       "Zirconium                                0.0                     0.0   \n",
       "Zoroaster                                0.0                     0.0   \n",
       "Zuid-Gelders                             0.0                     0.0   \n",
       "Zulu                                     0.0                     0.0   \n",
       "\n",
       "article_name           10th century  11th century  12th century  13th century  \\\n",
       "article_name                                                                    \n",
       "Áedán mac Gabráin               0.0           0.0           0.0           0.0   \n",
       "Åland                           0.0           0.0           0.0           0.0   \n",
       "Édouard Manet                   0.0           0.0           0.0           0.0   \n",
       "Éire                            0.0           0.0           0.0           0.0   \n",
       "Óengus I of the Picts           0.0           0.0           0.0           0.0   \n",
       "...                             ...           ...           ...           ...   \n",
       "Zionism                         0.0           0.0           0.0           0.0   \n",
       "Zirconium                       0.0           0.0           0.0           0.0   \n",
       "Zoroaster                       0.0           0.0           0.0           0.0   \n",
       "Zuid-Gelders                    0.0           0.0           0.0           0.0   \n",
       "Zulu                            0.0           0.0           0.0           0.0   \n",
       "\n",
       "article_name           ...  Ziad Jarrah  Zimbabwe  Zinc  Zinc chloride  \\\n",
       "article_name           ...                                               \n",
       "Áedán mac Gabráin      ...          0.0       0.0   0.0            0.0   \n",
       "Åland                  ...          0.0       0.0   0.0            0.0   \n",
       "Édouard Manet          ...          0.0       0.0   0.0            0.0   \n",
       "Éire                   ...          0.0       0.0   0.0            0.0   \n",
       "Óengus I of the Picts  ...          0.0       0.0   0.0            0.0   \n",
       "...                    ...          ...       ...   ...            ...   \n",
       "Zionism                ...          0.0       0.0   0.0            0.0   \n",
       "Zirconium              ...          0.0       0.0   0.0            0.0   \n",
       "Zoroaster              ...          0.0       0.0   0.0            0.0   \n",
       "Zuid-Gelders           ...          0.0       0.0   0.0            0.0   \n",
       "Zulu                   ...          0.0       0.0   0.0            0.0   \n",
       "\n",
       "article_name           Zion National Park  Zionism  Zirconium  Zoroaster  \\\n",
       "article_name                                                               \n",
       "Áedán mac Gabráin                     0.0      0.0        0.0        0.0   \n",
       "Åland                                 0.0      0.0        0.0        0.0   \n",
       "Édouard Manet                         0.0      0.0        0.0        0.0   \n",
       "Éire                                  0.0      0.0        0.0        0.0   \n",
       "Óengus I of the Picts                 0.0      0.0        0.0        0.0   \n",
       "...                                   ...      ...        ...        ...   \n",
       "Zionism                               0.0      0.0        0.0        0.0   \n",
       "Zirconium                             0.0      0.0        0.0        0.0   \n",
       "Zoroaster                             0.0      0.0        0.0        0.0   \n",
       "Zuid-Gelders                          0.0      0.0        0.0        0.0   \n",
       "Zulu                                  0.0      0.0        0.0        0.0   \n",
       "\n",
       "article_name           Zuid-Gelders  Zulu  \n",
       "article_name                               \n",
       "Áedán mac Gabráin               0.0   0.0  \n",
       "Åland                           0.0   0.0  \n",
       "Édouard Manet                   0.0   0.0  \n",
       "Éire                            0.0   0.0  \n",
       "Óengus I of the Picts           0.0   0.0  \n",
       "...                             ...   ...  \n",
       "Zionism                         0.0   0.0  \n",
       "Zirconium                       0.0   0.0  \n",
       "Zoroaster                       0.0   0.0  \n",
       "Zuid-Gelders                    0.0   0.0  \n",
       "Zulu                            0.0   0.0  \n",
       "\n",
       "[4604 rows x 4604 columns]"
      ]
     },
     "execution_count": 9,
     "metadata": {},
     "output_type": "execute_result"
    }
   ],
   "source": [
    "#Create adj matrix\n",
    "size = transition_matrix.shape[0]#number nodes\n",
    "print(f\"Number of nodes {transition_matrix.shape}\")\n",
    "matrix = transition_matrix.values\n",
    "#adj = pd.DataFrame(matrix, index=range(size), columns=range(size))\n",
    "adj = pd.DataFrame(matrix, index=df_articles[\"article_name\"], columns=df_articles[\"article_name\"])\n",
    "adj.to_csv(os.path.join(SAVE_FOLDER, \"entropy_adj.csv\"))\n",
    "adj"
   ]
  },
  {
   "cell_type": "code",
   "execution_count": 10,
   "metadata": {},
   "outputs": [
    {
     "data": {
      "image/png": "[encoded data removed]",
      "text/plain": [
       "<Figure size 640x480 with 1 Axes>"
      ]
     },
     "metadata": {},
     "output_type": "display_data"
    }
   ],
   "source": [
    "import networkx as nx\n",
    "import matplotlib.pyplot as plt\n",
    "import matplotlib.cm as cm\n",
    "import numpy as np\n",
    "\n",
    "# Select the specific node for which you want to draw its neighborhood\n",
    "node_of_interest = \"Dante Alighieri\"  # Replace with the actual node label\n",
    "\n",
    "# Create the graph from the adjacency matrix\n",
    "G = nx.from_pandas_adjacency(adj)\n",
    "\n",
    "# Get only the edges directly connected to the node_of_interest\n",
    "ego_edges = [(node_of_interest, neighbor) for neighbor in G.neighbors(node_of_interest)]\n",
    "ego_subgraph = G.edge_subgraph(ego_edges)  # Create a subgraph with only those edges\n",
    "\n",
    "# Define positions for the nodes in a star layout (circular around the core)\n",
    "pos = nx.shell_layout(ego_subgraph, nlist=[[node_of_interest], list(G.neighbors(node_of_interest))])\n",
    "\n",
    "# Get edge weights and map them to colors on a heatmap\n",
    "edge_weights = np.array([G.edges[edge]['weight'] for edge in ego_edges])\n",
    "norm = plt.Normalize(vmin=edge_weights.min(), vmax=edge_weights.max())  # Normalize weights for color mapping\n",
    "edge_colors = [cm.Reds(norm(weight)) for weight in edge_weights]  # Map weights to colors using colormap\n",
    "\n",
    "# Draw the subgraph with scaled edge colors based on weights\n",
    "fig, ax = plt.subplots()\n",
    "fig.patch.set_facecolor('black')  # Set the background color of the entire figure to black\n",
    "ax.set_facecolor('black')  # Set the plot area background to black\n",
    "\n",
    "nx.draw(\n",
    "    ego_subgraph,\n",
    "    pos,\n",
    "    with_labels=True,\n",
    "    node_size=1000,\n",
    "    node_color='lightblue',\n",
    "    font_size=6,\n",
    "    font_weight='bold',\n",
    "    edge_color=edge_colors,  # Use color map for edge colors\n",
    "    width=2,  # Set a fixed width for better visibility\n",
    "    ax=ax     # Draw on the specified axis\n",
    ")\n",
    "\n",
    "# Set the title with white font color for visibility on black background\n",
    "plt.title(f'Direct Neighborhood of Node {node_of_interest}, Entropy {entropy_df[entropy_df[\"article_name\"] == node_of_interest][\"entropy\"].values[0]:.2f}', color='black')\n",
    "plt.show()\n"
   ]
  },
  {
   "cell_type": "code",
   "execution_count": 22,
   "metadata": {},
   "outputs": [
    {
     "data": {
      "application/vnd.plotly.v1+json": {
       "config": {
        "plotlyServerURL": "https://plot.ly"
       },
       "data": [
        {
         "hoverinfo": "text",
         "line": {
          "color": "rgb(254,229,217)",
          "width": 4
         },
         "mode": "lines",
         "text": "Weight: 0.01",
         "type": "scatter",
         "x": [
          0,
          -0.5,
          null
         ],
         "y": [
          0,
          -4.371138828673793e-8,
          null
         ]
        },
        {
         "hoverinfo": "text",
         "line": {
          "color": "rgb(254,234,224)",
          "width": 4
         },
         "mode": "lines",
         "text": "Weight: 0.01",
         "type": "scatter",
         "x": [
          0,
          -0.4829629063606262,
          null
         ],
         "y": [
          0,
          -0.1294095367193222,
          null
         ]
        },
        {
         "hoverinfo": "text",
         "line": {
          "color": "rgb(252,167,138)",
          "width": 4
         },
         "mode": "lines",
         "text": "Weight: 0.04",
         "type": "scatter",
         "x": [
          0,
          -0.4330126643180847,
          null
         ],
         "y": [
          0,
          -0.25000008940696716,
          null
         ]
        },
        {
         "hoverinfo": "text",
         "line": {
          "color": "rgb(255,245,240)",
          "width": 4
         },
         "mode": "lines",
         "text": "Weight: 0.00",
         "type": "scatter",
         "x": [
          0,
          -0.3535533547401428,
          null
         ],
         "y": [
          0,
          -0.35355344414711,
          null
         ]
        },
        {
         "hoverinfo": "text",
         "line": {
          "color": "rgb(253,215,199)",
          "width": 4
         },
         "mode": "lines",
         "text": "Weight: 0.02",
         "type": "scatter",
         "x": [
          0,
          -0.24999995529651642,
          null
         ],
         "y": [
          0,
          -0.4330127239227295,
          null
         ]
        },
        {
         "hoverinfo": "text",
         "line": {
          "color": "rgb(254,237,229)",
          "width": 4
         },
         "mode": "lines",
         "text": "Weight: 0.01",
         "type": "scatter",
         "x": [
          0,
          -0.12940949201583862,
          null
         ],
         "y": [
          0,
          -0.4829629063606262,
          null
         ]
        },
        {
         "hoverinfo": "text",
         "line": {
          "color": "rgb(254,233,224)",
          "width": 4
         },
         "mode": "lines",
         "text": "Weight: 0.01",
         "type": "scatter",
         "x": [
          0,
          5.962440319251527e-9,
          null
         ],
         "y": [
          0,
          -0.5,
          null
         ]
        },
        {
         "hoverinfo": "text",
         "line": {
          "color": "rgb(253,215,199)",
          "width": 4
         },
         "mode": "lines",
         "text": "Weight: 0.02",
         "type": "scatter",
         "x": [
          0,
          0.12940949201583862,
          null
         ],
         "y": [
          0,
          -0.4829629063606262,
          null
         ]
        },
        {
         "hoverinfo": "text",
         "line": {
          "color": "rgb(254,235,226)",
          "width": 4
         },
         "mode": "lines",
         "text": "Weight: 0.01",
         "type": "scatter",
         "x": [
          0,
          0.24999995529651642,
          null
         ],
         "y": [
          0,
          -0.4330127239227295,
          null
         ]
        },
        {
         "hoverinfo": "text",
         "line": {
          "color": "rgb(193,21,27)",
          "width": 4
         },
         "mode": "lines",
         "text": "Weight: 0.11",
         "type": "scatter",
         "x": [
          0,
          0.35355350375175476,
          null
         ],
         "y": [
          0,
          -0.35355326533317566,
          null
         ]
        },
        {
         "hoverinfo": "text",
         "line": {
          "color": "rgb(252,167,138)",
          "width": 4
         },
         "mode": "lines",
         "text": "Weight: 0.04",
         "type": "scatter",
         "x": [
          0,
          0.4330126643180847,
          null
         ],
         "y": [
          0,
          -0.25000008940696716,
          null
         ]
        },
        {
         "hoverinfo": "text",
         "line": {
          "color": "rgb(252,167,138)",
          "width": 4
         },
         "mode": "lines",
         "text": "Weight: 0.04",
         "type": "scatter",
         "x": [
          0,
          0.4829629361629486,
          null
         ],
         "y": [
          0,
          -0.12940941751003265,
          null
         ]
        },
        {
         "hoverinfo": "text",
         "line": {
          "color": "rgb(252,198,175)",
          "width": 4
         },
         "mode": "lines",
         "text": "Weight: 0.03",
         "type": "scatter",
         "x": [
          0,
          0.5,
          null
         ],
         "y": [
          0,
          8.742277657347586e-8,
          null
         ]
        },
        {
         "hoverinfo": "text",
         "line": {
          "color": "rgb(253,215,199)",
          "width": 4
         },
         "mode": "lines",
         "text": "Weight: 0.02",
         "type": "scatter",
         "x": [
          0,
          0.4829629063606262,
          null
         ],
         "y": [
          0,
          0.1294095814228058,
          null
         ]
        },
        {
         "hoverinfo": "text",
         "line": {
          "color": "rgb(253,215,199)",
          "width": 4
         },
         "mode": "lines",
         "text": "Weight: 0.02",
         "type": "scatter",
         "x": [
          0,
          0.4330126941204071,
          null
         ],
         "y": [
          0,
          0.2500000298023224,
          null
         ]
        },
        {
         "hoverinfo": "text",
         "line": {
          "color": "rgb(252,190,165)",
          "width": 4
         },
         "mode": "lines",
         "text": "Weight: 0.03",
         "type": "scatter",
         "x": [
          0,
          0.3535533845424652,
          null
         ],
         "y": [
          0,
          0.3535533845424652,
          null
         ]
        },
        {
         "hoverinfo": "text",
         "line": {
          "color": "rgb(253,215,199)",
          "width": 4
         },
         "mode": "lines",
         "text": "Weight: 0.02",
         "type": "scatter",
         "x": [
          0,
          0.24999980628490448,
          null
         ],
         "y": [
          0,
          0.43301281332969666,
          null
         ]
        },
        {
         "hoverinfo": "text",
         "line": {
          "color": "rgb(251,116,84)",
          "width": 4
         },
         "mode": "lines",
         "text": "Weight: 0.07",
         "type": "scatter",
         "x": [
          0,
          0.1294095665216446,
          null
         ],
         "y": [
          0,
          0.4829629063606262,
          null
         ]
        },
        {
         "hoverinfo": "text",
         "line": {
          "color": "rgb(103,0,12)",
          "width": 4
         },
         "mode": "lines",
         "text": "Weight: 0.14",
         "type": "scatter",
         "x": [
          0,
          -1.6888311904494913e-7,
          null
         ],
         "y": [
          0,
          0.5,
          null
         ]
        },
        {
         "hoverinfo": "text",
         "line": {
          "color": "rgb(254,233,223)",
          "width": 4
         },
         "mode": "lines",
         "text": "Weight: 0.01",
         "type": "scatter",
         "x": [
          0,
          -0.12940943241119385,
          null
         ],
         "y": [
          0,
          0.4829629361629486,
          null
         ]
        },
        {
         "hoverinfo": "text",
         "line": {
          "color": "rgb(251,116,84)",
          "width": 4
         },
         "mode": "lines",
         "text": "Weight: 0.07",
         "type": "scatter",
         "x": [
          0,
          -0.25000011920928955,
          null
         ],
         "y": [
          0,
          0.43301263451576233,
          null
         ]
        },
        {
         "hoverinfo": "text",
         "line": {
          "color": "rgb(253,223,209)",
          "width": 4
         },
         "mode": "lines",
         "text": "Weight: 0.02",
         "type": "scatter",
         "x": [
          0,
          -0.35355329513549805,
          null
         ],
         "y": [
          0,
          0.35355350375175476,
          null
         ]
        },
        {
         "hoverinfo": "text",
         "line": {
          "color": "rgb(254,241,234)",
          "width": 4
         },
         "mode": "lines",
         "text": "Weight: 0.00",
         "type": "scatter",
         "x": [
          0,
          -0.4330127239227295,
          null
         ],
         "y": [
          0,
          0.24999995529651642,
          null
         ]
        },
        {
         "hoverinfo": "text",
         "line": {
          "color": "rgb(254,242,236)",
          "width": 4
         },
         "mode": "lines",
         "text": "Weight: 0.00",
         "type": "scatter",
         "x": [
          0,
          -0.4829629957675934,
          null
         ],
         "y": [
          0,
          0.12940925359725952,
          null
         ]
        },
        {
         "marker": {
          "color": [
           "gold",
           "lightblue",
           "lightblue",
           "lightblue",
           "lightblue",
           "lightblue",
           "lightblue",
           "lightblue",
           "lightblue",
           "lightblue",
           "lightblue",
           "lightblue",
           "lightblue",
           "lightblue",
           "lightblue",
           "lightblue",
           "lightblue",
           "lightblue",
           "lightblue",
           "lightblue",
           "lightblue",
           "lightblue",
           "lightblue",
           "lightblue",
           "lightblue"
          ],
          "line": {
           "color": "darkblue",
           "width": 2
          },
          "size": 15
         },
         "mode": "markers+text",
         "text": [
          "Dante Alighieri",
          "13th century",
          "14th century",
          "Dark Ages",
          "Europe",
          "France",
          "Italian Renaissance",
          "Italy",
          "Luxembourg",
          "Malaria",
          "Middle Ages",
          "Oxford",
          "Paris",
          "Poetry",
          "Pope",
          "Rome",
          "Samuel Beckett",
          "Thomas Aquinas",
          "Virgil",
          "Flag of Australia",
          "Homer",
          "Modernist poetry in English",
          "Odysseus",
          "Renaissance",
          "Roman Catholic Church"
         ],
         "textposition": "top center",
         "type": "scatter",
         "x": [
          0,
          -0.5,
          -0.4829629063606262,
          -0.4330126643180847,
          -0.3535533547401428,
          -0.24999995529651642,
          -0.12940949201583862,
          5.962440319251527e-9,
          0.12940949201583862,
          0.24999995529651642,
          0.35355350375175476,
          0.4330126643180847,
          0.4829629361629486,
          0.5,
          0.4829629063606262,
          0.4330126941204071,
          0.3535533845424652,
          0.24999980628490448,
          0.1294095665216446,
          -1.6888311904494913e-7,
          -0.12940943241119385,
          -0.25000011920928955,
          -0.35355329513549805,
          -0.4330127239227295,
          -0.4829629957675934
         ],
         "y": [
          0,
          -4.371138828673793e-8,
          -0.1294095367193222,
          -0.25000008940696716,
          -0.35355344414711,
          -0.4330127239227295,
          -0.4829629063606262,
          -0.5,
          -0.4829629063606262,
          -0.4330127239227295,
          -0.35355326533317566,
          -0.25000008940696716,
          -0.12940941751003265,
          8.742277657347586e-8,
          0.1294095814228058,
          0.2500000298023224,
          0.3535533845424652,
          0.43301281332969666,
          0.4829629063606262,
          0.5,
          0.4829629361629486,
          0.43301263451576233,
          0.35355350375175476,
          0.24999995529651642,
          0.12940925359725952
         ]
        }
       ],
       "layout": {
        "height": 600,
        "hovermode": "closest",
        "paper_bgcolor": "white",
        "plot_bgcolor": "white",
        "showlegend": false,
        "template": {
         "data": {
          "bar": [
           {
            "error_x": {
             "color": "#2a3f5f"
            },
            "error_y": {
             "color": "#2a3f5f"
            },
            "marker": {
             "line": {
              "color": "#E5ECF6",
              "width": 0.5
             },
             "pattern": {
              "fillmode": "overlay",
              "size": 10,
              "solidity": 0.2
             }
            },
            "type": "bar"
           }
          ],
          "barpolar": [
           {
            "marker": {
             "line": {
              "color": "#E5ECF6",
              "width": 0.5
             },
             "pattern": {
              "fillmode": "overlay",
              "size": 10,
              "solidity": 0.2
             }
            },
            "type": "barpolar"
           }
          ],
          "carpet": [
           {
            "aaxis": {
             "endlinecolor": "#2a3f5f",
             "gridcolor": "white",
             "linecolor": "white",
             "minorgridcolor": "white",
             "startlinecolor": "#2a3f5f"
            },
            "baxis": {
             "endlinecolor": "#2a3f5f",
             "gridcolor": "white",
             "linecolor": "white",
             "minorgridcolor": "white",
             "startlinecolor": "#2a3f5f"
            },
            "type": "carpet"
           }
          ],
          "choropleth": [
           {
            "colorbar": {
             "outlinewidth": 0,
             "ticks": ""
            },
            "type": "choropleth"
           }
          ],
          "contour": [
           {
            "colorbar": {
             "outlinewidth": 0,
             "ticks": ""
            },
            "colorscale": [
             [
              0,
              "#0d0887"
             ],
             [
              0.1111111111111111,
              "#46039f"
             ],
             [
              0.2222222222222222,
              "#7201a8"
             ],
             [
              0.3333333333333333,
              "#9c179e"
             ],
             [
              0.4444444444444444,
              "#bd3786"
             ],
             [
              0.5555555555555556,
              "#d8576b"
             ],
             [
              0.6666666666666666,
              "#ed7953"
             ],
             [
              0.7777777777777778,
              "#fb9f3a"
             ],
             [
              0.8888888888888888,
              "#fdca26"
             ],
             [
              1,
              "#f0f921"
             ]
            ],
            "type": "contour"
           }
          ],
          "contourcarpet": [
           {
            "colorbar": {
             "outlinewidth": 0,
             "ticks": ""
            },
            "type": "contourcarpet"
           }
          ],
          "heatmap": [
           {
            "colorbar": {
             "outlinewidth": 0,
             "ticks": ""
            },
            "colorscale": [
             [
              0,
              "#0d0887"
             ],
             [
              0.1111111111111111,
              "#46039f"
             ],
             [
              0.2222222222222222,
              "#7201a8"
             ],
             [
              0.3333333333333333,
              "#9c179e"
             ],
             [
              0.4444444444444444,
              "#bd3786"
             ],
             [
              0.5555555555555556,
              "#d8576b"
             ],
             [
              0.6666666666666666,
              "#ed7953"
             ],
             [
              0.7777777777777778,
              "#fb9f3a"
             ],
             [
              0.8888888888888888,
              "#fdca26"
             ],
             [
              1,
              "#f0f921"
             ]
            ],
            "type": "heatmap"
           }
          ],
          "heatmapgl": [
           {
            "colorbar": {
             "outlinewidth": 0,
             "ticks": ""
            },
            "colorscale": [
             [
              0,
              "#0d0887"
             ],
             [
              0.1111111111111111,
              "#46039f"
             ],
             [
              0.2222222222222222,
              "#7201a8"
             ],
             [
              0.3333333333333333,
              "#9c179e"
             ],
             [
              0.4444444444444444,
              "#bd3786"
             ],
             [
              0.5555555555555556,
              "#d8576b"
             ],
             [
              0.6666666666666666,
              "#ed7953"
             ],
             [
              0.7777777777777778,
              "#fb9f3a"
             ],
             [
              0.8888888888888888,
              "#fdca26"
             ],
             [
              1,
              "#f0f921"
             ]
            ],
            "type": "heatmapgl"
           }
          ],
          "histogram": [
           {
            "marker": {
             "pattern": {
              "fillmode": "overlay",
              "size": 10,
              "solidity": 0.2
             }
            },
            "type": "histogram"
           }
          ],
          "histogram2d": [
           {
            "colorbar": {
             "outlinewidth": 0,
             "ticks": ""
            },
            "colorscale": [
             [
              0,
              "#0d0887"
             ],
             [
              0.1111111111111111,
              "#46039f"
             ],
             [
              0.2222222222222222,
              "#7201a8"
             ],
             [
              0.3333333333333333,
              "#9c179e"
             ],
             [
              0.4444444444444444,
              "#bd3786"
             ],
             [
              0.5555555555555556,
              "#d8576b"
             ],
             [
              0.6666666666666666,
              "#ed7953"
             ],
             [
              0.7777777777777778,
              "#fb9f3a"
             ],
             [
              0.8888888888888888,
              "#fdca26"
             ],
             [
              1,
              "#f0f921"
             ]
            ],
            "type": "histogram2d"
           }
          ],
          "histogram2dcontour": [
           {
            "colorbar": {
             "outlinewidth": 0,
             "ticks": ""
            },
            "colorscale": [
             [
              0,
              "#0d0887"
             ],
             [
              0.1111111111111111,
              "#46039f"
             ],
             [
              0.2222222222222222,
              "#7201a8"
             ],
             [
              0.3333333333333333,
              "#9c179e"
             ],
             [
              0.4444444444444444,
              "#bd3786"
             ],
             [
              0.5555555555555556,
              "#d8576b"
             ],
             [
              0.6666666666666666,
              "#ed7953"
             ],
             [
              0.7777777777777778,
              "#fb9f3a"
             ],
             [
              0.8888888888888888,
              "#fdca26"
             ],
             [
              1,
              "#f0f921"
             ]
            ],
            "type": "histogram2dcontour"
           }
          ],
          "mesh3d": [
           {
            "colorbar": {
             "outlinewidth": 0,
             "ticks": ""
            },
            "type": "mesh3d"
           }
          ],
          "parcoords": [
           {
            "line": {
             "colorbar": {
              "outlinewidth": 0,
              "ticks": ""
             }
            },
            "type": "parcoords"
           }
          ],
          "pie": [
           {
            "automargin": true,
            "type": "pie"
           }
          ],
          "scatter": [
           {
            "fillpattern": {
             "fillmode": "overlay",
             "size": 10,
             "solidity": 0.2
            },
            "type": "scatter"
           }
          ],
          "scatter3d": [
           {
            "line": {
             "colorbar": {
              "outlinewidth": 0,
              "ticks": ""
             }
            },
            "marker": {
             "colorbar": {
              "outlinewidth": 0,
              "ticks": ""
             }
            },
            "type": "scatter3d"
           }
          ],
          "scattercarpet": [
           {
            "marker": {
             "colorbar": {
              "outlinewidth": 0,
              "ticks": ""
             }
            },
            "type": "scattercarpet"
           }
          ],
          "scattergeo": [
           {
            "marker": {
             "colorbar": {
              "outlinewidth": 0,
              "ticks": ""
             }
            },
            "type": "scattergeo"
           }
          ],
          "scattergl": [
           {
            "marker": {
             "colorbar": {
              "outlinewidth": 0,
              "ticks": ""
             }
            },
            "type": "scattergl"
           }
          ],
          "scattermapbox": [
           {
            "marker": {
             "colorbar": {
              "outlinewidth": 0,
              "ticks": ""
             }
            },
            "type": "scattermapbox"
           }
          ],
          "scatterpolar": [
           {
            "marker": {
             "colorbar": {
              "outlinewidth": 0,
              "ticks": ""
             }
            },
            "type": "scatterpolar"
           }
          ],
          "scatterpolargl": [
           {
            "marker": {
             "colorbar": {
              "outlinewidth": 0,
              "ticks": ""
             }
            },
            "type": "scatterpolargl"
           }
          ],
          "scatterternary": [
           {
            "marker": {
             "colorbar": {
              "outlinewidth": 0,
              "ticks": ""
             }
            },
            "type": "scatterternary"
           }
          ],
          "surface": [
           {
            "colorbar": {
             "outlinewidth": 0,
             "ticks": ""
            },
            "colorscale": [
             [
              0,
              "#0d0887"
             ],
             [
              0.1111111111111111,
              "#46039f"
             ],
             [
              0.2222222222222222,
              "#7201a8"
             ],
             [
              0.3333333333333333,
              "#9c179e"
             ],
             [
              0.4444444444444444,
              "#bd3786"
             ],
             [
              0.5555555555555556,
              "#d8576b"
             ],
             [
              0.6666666666666666,
              "#ed7953"
             ],
             [
              0.7777777777777778,
              "#fb9f3a"
             ],
             [
              0.8888888888888888,
              "#fdca26"
             ],
             [
              1,
              "#f0f921"
             ]
            ],
            "type": "surface"
           }
          ],
          "table": [
           {
            "cells": {
             "fill": {
              "color": "#EBF0F8"
             },
             "line": {
              "color": "white"
             }
            },
            "header": {
             "fill": {
              "color": "#C8D4E3"
             },
             "line": {
              "color": "white"
             }
            },
            "type": "table"
           }
          ]
         },
         "layout": {
          "annotationdefaults": {
           "arrowcolor": "#2a3f5f",
           "arrowhead": 0,
           "arrowwidth": 1
          },
          "autotypenumbers": "strict",
          "coloraxis": {
           "colorbar": {
            "outlinewidth": 0,
            "ticks": ""
           }
          },
          "colorscale": {
           "diverging": [
            [
             0,
             "#8e0152"
            ],
            [
             0.1,
             "#c51b7d"
            ],
            [
             0.2,
             "#de77ae"
            ],
            [
             0.3,
             "#f1b6da"
            ],
            [
             0.4,
             "#fde0ef"
            ],
            [
             0.5,
             "#f7f7f7"
            ],
            [
             0.6,
             "#e6f5d0"
            ],
            [
             0.7,
             "#b8e186"
            ],
            [
             0.8,
             "#7fbc41"
            ],
            [
             0.9,
             "#4d9221"
            ],
            [
             1,
             "#276419"
            ]
           ],
           "sequential": [
            [
             0,
             "#0d0887"
            ],
            [
             0.1111111111111111,
             "#46039f"
            ],
            [
             0.2222222222222222,
             "#7201a8"
            ],
            [
             0.3333333333333333,
             "#9c179e"
            ],
            [
             0.4444444444444444,
             "#bd3786"
            ],
            [
             0.5555555555555556,
             "#d8576b"
            ],
            [
             0.6666666666666666,
             "#ed7953"
            ],
            [
             0.7777777777777778,
             "#fb9f3a"
            ],
            [
             0.8888888888888888,
             "#fdca26"
            ],
            [
             1,
             "#f0f921"
            ]
           ],
           "sequentialminus": [
            [
             0,
             "#0d0887"
            ],
            [
             0.1111111111111111,
             "#46039f"
            ],
            [
             0.2222222222222222,
             "#7201a8"
            ],
            [
             0.3333333333333333,
             "#9c179e"
            ],
            [
             0.4444444444444444,
             "#bd3786"
            ],
            [
             0.5555555555555556,
             "#d8576b"
            ],
            [
             0.6666666666666666,
             "#ed7953"
            ],
            [
             0.7777777777777778,
             "#fb9f3a"
            ],
            [
             0.8888888888888888,
             "#fdca26"
            ],
            [
             1,
             "#f0f921"
            ]
           ]
          },
          "colorway": [
           "#636efa",
           "#EF553B",
           "#00cc96",
           "#ab63fa",
           "#FFA15A",
           "#19d3f3",
           "#FF6692",
           "#B6E880",
           "#FF97FF",
           "#FECB52"
          ],
          "font": {
           "color": "#2a3f5f"
          },
          "geo": {
           "bgcolor": "white",
           "lakecolor": "white",
           "landcolor": "#E5ECF6",
           "showlakes": true,
           "showland": true,
           "subunitcolor": "white"
          },
          "hoverlabel": {
           "align": "left"
          },
          "hovermode": "closest",
          "mapbox": {
           "style": "light"
          },
          "paper_bgcolor": "white",
          "plot_bgcolor": "#E5ECF6",
          "polar": {
           "angularaxis": {
            "gridcolor": "white",
            "linecolor": "white",
            "ticks": ""
           },
           "bgcolor": "#E5ECF6",
           "radialaxis": {
            "gridcolor": "white",
            "linecolor": "white",
            "ticks": ""
           }
          },
          "scene": {
           "xaxis": {
            "backgroundcolor": "#E5ECF6",
            "gridcolor": "white",
            "gridwidth": 2,
            "linecolor": "white",
            "showbackground": true,
            "ticks": "",
            "zerolinecolor": "white"
           },
           "yaxis": {
            "backgroundcolor": "#E5ECF6",
            "gridcolor": "white",
            "gridwidth": 2,
            "linecolor": "white",
            "showbackground": true,
            "ticks": "",
            "zerolinecolor": "white"
           },
           "zaxis": {
            "backgroundcolor": "#E5ECF6",
            "gridcolor": "white",
            "gridwidth": 2,
            "linecolor": "white",
            "showbackground": true,
            "ticks": "",
            "zerolinecolor": "white"
           }
          },
          "shapedefaults": {
           "line": {
            "color": "#2a3f5f"
           }
          },
          "ternary": {
           "aaxis": {
            "gridcolor": "white",
            "linecolor": "white",
            "ticks": ""
           },
           "baxis": {
            "gridcolor": "white",
            "linecolor": "white",
            "ticks": ""
           },
           "bgcolor": "#E5ECF6",
           "caxis": {
            "gridcolor": "white",
            "linecolor": "white",
            "ticks": ""
           }
          },
          "title": {
           "x": 0.05
          },
          "xaxis": {
           "automargin": true,
           "gridcolor": "white",
           "linecolor": "white",
           "ticks": "",
           "title": {
            "standoff": 15
           },
           "zerolinecolor": "white",
           "zerolinewidth": 2
          },
          "yaxis": {
           "automargin": true,
           "gridcolor": "white",
           "linecolor": "white",
           "ticks": "",
           "title": {
            "standoff": 15
           },
           "zerolinecolor": "white",
           "zerolinewidth": 2
          }
         }
        },
        "title": {
         "font": {
          "color": "black",
          "size": 20
         },
         "text": "Direct Neighborhood of Node Dante Alighieri, Entropy: 3.52",
         "x": 0.5,
         "xanchor": "center",
         "yanchor": "top"
        },
        "width": 900,
        "xaxis": {
         "showgrid": false,
         "visible": false,
         "zeroline": false
        },
        "yaxis": {
         "showgrid": false,
         "visible": false,
         "zeroline": false
        }
       }
      }
     },
     "metadata": {},
     "output_type": "display_data"
    }
   ],
   "source": [
    "\n",
    "import networkx as nx\n",
    "import numpy as np\n",
    "import pandas as pd\n",
    "import plotly.graph_objects as go\n",
    "\n",
    "# Example node of interest\n",
    "node_of_interest = \"Dante Alighieri\"\n",
    "\n",
    "# Create the graph from the adjacency matrix (assuming `adj` is a pandas DataFrame)\n",
    "G = nx.from_pandas_adjacency(adj)\n",
    "\n",
    "# Get the direct neighborhood edges\n",
    "ego_edges = [(node_of_interest, neighbor) for neighbor in G.neighbors(node_of_interest)]\n",
    "ego_subgraph = G.edge_subgraph(ego_edges)  # Create a subgraph\n",
    "\n",
    "# Generate positions for the nodes\n",
    "pos = nx.shell_layout(ego_subgraph, nlist=[[node_of_interest], list(G.neighbors(node_of_interest))])\n",
    "\n",
    "# Extract edge weights and normalize for color mapping\n",
    "edge_weights = np.array([G.edges[edge]['weight'] for edge in ego_edges])\n",
    "norm = plt.Normalize(vmin=edge_weights.min(), vmax=edge_weights.max())\n",
    "edge_colors = [f'rgb({int(r*255)},{int(g*255)},{int(b*255)})' \n",
    "               for r, g, b, _ in cm.Reds(norm(edge_weights))]  # Convert colors to RGB strings\n",
    "\n",
    "# Create node and edge traces for Plotly\n",
    "node_x = []\n",
    "node_y = []\n",
    "node_text = []\n",
    "for node, (x, y) in pos.items():\n",
    "    node_x.append(x)\n",
    "    node_y.append(y)\n",
    "    node_text.append(node)\n",
    "edge_traces = []\n",
    "\n",
    "for edge, color in zip(ego_edges, edge_colors):\n",
    "    x0, y0 = pos[edge[0]]\n",
    "    x1, y1 = pos[edge[1]]\n",
    "    edge_trace = go.Scatter(\n",
    "        x=[x0, x1, None],  # x-coordinates of the edge\n",
    "        y=[y0, y1, None],  # y-coordinates of the edge\n",
    "        line=dict(width=4, color=color),  # Single color for this edge\n",
    "        hoverinfo='text',\n",
    "        text=f'Weight: {G.edges[edge][\"weight\"]:.2f}',  # Display weight on hover\n",
    "        mode='lines'\n",
    "    )\n",
    "    edge_traces.append(edge_trace)\n",
    "\n",
    "# Create the node trace\n",
    "node_trace = go.Scatter(\n",
    "    x=node_x,\n",
    "    y=node_y,\n",
    "    mode='markers+text',\n",
    "    text=node_text,\n",
    "    textposition=\"top center\",\n",
    "    marker=dict(\n",
    "        size=15,\n",
    "        color=['gold' if node == node_of_interest else 'lightblue' for node in node_text],\n",
    "        line=dict(width=2, color='darkblue')\n",
    "    )\n",
    ")\n",
    "\n",
    "# Combine all edge traces with the node trace\n",
    "fig = go.Figure(\n",
    "    data=edge_traces + [node_trace],\n",
    "    layout=go.Layout(\n",
    "        title=dict(\n",
    "            text=f\"Direct Neighborhood of Node {node_of_interest}, Entropy: {entropy_df[entropy_df['article_name'] == node_of_interest]['entropy'].values[0]:.2f}\",\n",
    "            font=dict(size=20, color='black'),  # Black font for contrast\n",
    "            x=0.5,  # Center the title\n",
    "            xanchor='center',  # Align the title to the center\n",
    "            yanchor='top'  # Keep the title at the top\n",
    "        ),\n",
    "        showlegend=False,\n",
    "        hovermode='closest',\n",
    "        plot_bgcolor='white',  # Set plot background to white\n",
    "        paper_bgcolor='white',  # Set overall background to white\n",
    "        xaxis=dict(\n",
    "            showgrid=False,  # Remove grid lines\n",
    "            zeroline=False,  # Remove axis lines\n",
    "            visible=False,   # Hide the x-axis completely\n",
    "            #scaleanchor=\"y\", # Lock aspect ratio to make it square\n",
    "        ),\n",
    "        yaxis=dict(\n",
    "            showgrid=False,  # Remove grid lines\n",
    "            zeroline=False,  # Remove axis lines\n",
    "            visible=False    # Hide the y-axis completely\n",
    "        ),\n",
    "        width=900,  # Set the figure width\n",
    "        height=600  # Set the figure height (same as width for square)\n",
    "    )\n",
    ")\n",
    "\n",
    "# Show the figure\n",
    "fig.show()\n"
   ]
  },
  {
   "cell_type": "markdown",
   "metadata": {},
   "source": [
    "# Correaltion between finished/Unfinished and Entropy"
   ]
  },
  {
   "cell_type": "code",
   "execution_count": 10,
   "metadata": {},
   "outputs": [
    {
     "name": "stdout",
     "output_type": "stream",
     "text": [
      "Point-Biserial Correlation: 0.19409625942219272, p-value: 0.0\n"
     ]
    }
   ],
   "source": [
    "from scipy.stats import pointbiserialr\n",
    "\n",
    "# Assuming `category` is binary (0/1) and `continuous_var` is the continuous variable\n",
    "correlation, p_value = pointbiserialr(df_paths[\"finished\"], df_paths[\"entropy_path\"])\n",
    "print(f\"Point-Biserial Correlation: {correlation}, p-value: {p_value}\")\n"
   ]
  },
  {
   "cell_type": "markdown",
   "metadata": {},
   "source": [
    "### Plot Distributions"
   ]
  },
  {
   "cell_type": "code",
   "execution_count": 11,
   "metadata": {},
   "outputs": [
    {
     "data": {
      "image/png": "[encoded data removed]",
      "text/plain": [
       "<Figure size 1500x1200 with 6 Axes>"
      ]
     },
     "metadata": {},
     "output_type": "display_data"
    }
   ],
   "source": [
    "# Create a single figure with multiple subplots\n",
    "fig, axs = plt.subplots(3, 2, figsize=(15, 12))  # 3 rows, 2 columns\n",
    "\n",
    "\n",
    "# Violin plot: Entropy Path Distribution by Finished Status\n",
    "sns.violinplot(ax=axs[0, 0], x='finished', y='entropy_path', data=df_paths)\n",
    "axs[0, 0].set_title('Violin Plot of Entropy Path by Finished Status')\n",
    "axs[0, 0].set_xlabel('Finished')\n",
    "axs[0, 0].set_ylabel('Entropy Path')\n",
    "\n",
    "# Histogram of Entropy Path by Finished Status\n",
    "mean_finished_1 = df_paths[df_paths['finished'] == 1]['entropy_path'].mean()\n",
    "mean_finished_0 = df_paths[df_paths['finished'] == 0]['entropy_path'].mean()\n",
    "axs[0, 1].hist(df_paths[df_paths['finished'] == 1]['entropy_path'].dropna(), bins=30, alpha=0.5, label='Finished = 1')\n",
    "axs[0, 1].hist(df_paths[df_paths['finished'] == 0]['entropy_path'].dropna(), bins=30, alpha=0.5, label='Finished = 0')\n",
    "axs[0, 1].axvline(mean_finished_1, color='blue', linestyle='dashed', linewidth=2, label='Mean Finished = 1')\n",
    "axs[0, 1].axvline(mean_finished_0, color='orange', linestyle='dashed', linewidth=2, label='Mean Finished = 0')\n",
    "axs[0, 1].set_title('Histogram of Entropy Path by Finished Status')\n",
    "axs[0, 1].set_xlabel('Entropy Path')\n",
    "axs[0, 1].set_ylabel('Frequency')\n",
    "axs[0, 1].legend()\n",
    "\n",
    "# Violin plot: Entropy Path Distribution by Type of Unfinished Paths\n",
    "sns.violinplot(ax=axs[1, 0], x='type_unfinished', y='entropy_path', data=df_paths[df_paths[\"finished\"] == False])\n",
    "axs[1, 0].set_title('Violin Plot of Entropy Path by Type Unfinished')\n",
    "axs[1, 0].set_xlabel('Type Unfinished')\n",
    "axs[1, 0].set_ylabel('Entropy Path')\n",
    "\n",
    "# Histogram of Entropy Path by Type of Unfinished Paths\n",
    "# group_restart = df_paths[(df_paths['finished'] == False) & (df_paths['type_unfinished'] == 'restart')]\n",
    "# group_timeout = df_paths[(df_paths['finished'] == False) & (df_paths['type_unfinished'] == 'timeout')]\n",
    "# mean_entropy_restart = group_restart['entropy_path'].mean()  # Mean for 'restart'\n",
    "# mean_entropy_timeout = group_timeout['entropy_path'].mean()  # Mean for 'timeout'\n",
    "# axs[1, 1].hist(group_restart['entropy_path'].dropna(), bins=30, alpha=0.5, label='Type Restart')\n",
    "# axs[1, 1].hist(group_timeout['entropy_path'].dropna(), bins=30, alpha=0.5, label='Type Timeout')\n",
    "# axs[1, 1].axvline(mean_entropy_restart, color='blue', linestyle='dashed', linewidth=2, label=f'Mean Restart = {mean_entropy_restart:.2f}')  # Add mean line for 'restart'\n",
    "# axs[1, 1].axvline(mean_entropy_timeout, color='orange', linestyle='dashed', linewidth=2, label=f'Mean Timeout = {mean_entropy_timeout:.2f}')  # Add mean line for 'timeout'\n",
    "# axs[1, 1].set_title('Histogram of Entropy Path by Type Unfinished')\n",
    "# axs[1, 1].set_xlabel('Entropy Path')\n",
    "# axs[1, 1].set_ylabel('Frequency')\n",
    "# axs[1, 1].legend()\n",
    "\n",
    "# Violin plot: Entropy Path by Click Rate (Binary)\n",
    "threshold = df_paths['click_rate'].mean()\n",
    "df_paths['click_rate_binary'] = (df_paths['click_rate'] > threshold).astype(int)\n",
    "sns.violinplot(ax=axs[1, 1], x='click_rate_binary', y='entropy_path', data=df_paths)\n",
    "axs[1, 1].set_title('Violin Plot of Entropy Path by Click Rate')\n",
    "axs[1, 1].set_xlabel('Click Rate (Binary: 0 = Not Clicked, 1 = Clicked)')\n",
    "axs[1, 1].set_ylabel('Entropy Path')\n",
    "\n",
    "# MISSING WITH HIST\n",
    "\n",
    "# Scatter plot: Entropy Path vs Click Rate\n",
    "sns.scatterplot(ax=axs[2, 0], x='click_rate', y='entropy_path', data=df_paths)\n",
    "sns.regplot(ax=axs[2, 0], x='click_rate', y='entropy_path', data=df_paths, scatter=False, color='red', ci=None)  # Linear regression line\n",
    "axs[2, 0].set_title('Scatter Plot of Entropy Path by Click Rate')\n",
    "axs[2, 0].set_xlabel('Click Rate')\n",
    "axs[2, 0].set_ylabel('Entropy Path')\n",
    "axs[2, 0].set_xscale(\"log\")\n",
    "\n",
    "# Scatter plot: Entropy Path vs Click Rate\n",
    "sns.scatterplot(ax=axs[2, 1], x='n_back', y='entropy_path', data=df_paths)\n",
    "sns.regplot(ax=axs[2, 1], x='n_back', y='entropy_path', data=df_paths, scatter=False, color='red', ci=None)  # Linear regression line\n",
    "axs[2, 1].set_title('Scatter Plot of Entropy Path by Click Rate')\n",
    "axs[2, 1].set_xlabel('Click Rate')\n",
    "axs[2, 1].set_ylabel('Entropy Path')\n",
    "axs[2, 1].set_xscale(\"log\")\n",
    "\n",
    "# Adjust layout and show grid\n",
    "plt.tight_layout()\n",
    "plt.show()"
   ]
  },
  {
   "cell_type": "markdown",
   "metadata": {},
   "source": [
    "# Statistical Analysis"
   ]
  },
  {
   "cell_type": "code",
   "execution_count": 12,
   "metadata": {},
   "outputs": [
    {
     "name": "stdout",
     "output_type": "stream",
     "text": [
      "T-statistic: 53.86419551049631\n",
      "P-value: 0.0\n",
      "Reject the null hypothesis: The means are significantly different.\n"
     ]
    }
   ],
   "source": [
    "\n",
    "# Separate the groups based on the 'finished' column\n",
    "group1 = df_paths[df_paths['finished'] == 1]['entropy_path'].dropna()  # Group where finished = 1\n",
    "group2 = df_paths[df_paths['finished'] == 0]['entropy_path'].dropna()  # Group where finished = 0\n",
    "\n",
    "# Perform an independent t-test\n",
    "# ATTENTION: from the hist of above the data seems gaussian\n",
    "t_stat, p_value = stats.ttest_ind(group1, group2, equal_var=True)  # Use equal_var=False for Welch's t-test\n",
    "\n",
    "# Print the results\n",
    "print(f\"T-statistic: {t_stat}\")\n",
    "print(f\"P-value: {p_value}\")\n",
    "\n",
    "# Interpret the p-value\n",
    "alpha = 0.05  # Significance level\n",
    "if p_value < alpha:\n",
    "    print(\"Reject the null hypothesis: The means are significantly different.\")\n",
    "else:\n",
    "    print(\"Fail to reject the null hypothesis: The means are not significantly different.\")\n"
   ]
  },
  {
   "cell_type": "markdown",
   "metadata": {},
   "source": [
    "Ah, wow, this seems unexpected! The average entropy between finished and unfinished paths is statistically different, but the relationship is surprising. Since entropy is a metric of uncertainty, we expected that in unfinished paths, the metric would be higher. This is because users could feel lost or may not have a precise idea of where to navigate, thus leading to greater entropy. However, the results reveal the opposite: on average, finished paths show higher entropy. Let's investigate this strange behavior further.\n",
    "\n"
   ]
  },
  {
   "cell_type": "markdown",
   "metadata": {},
   "source": [
    "# Explain Entropy with Connectivity"
   ]
  },
  {
   "cell_type": "code",
   "execution_count": 13,
   "metadata": {},
   "outputs": [
    {
     "data": {
      "text/html": [
       "<div>\n",
       "<style scoped>\n",
       "    .dataframe tbody tr th:only-of-type {\n",
       "        vertical-align: middle;\n",
       "    }\n",
       "\n",
       "    .dataframe tbody tr th {\n",
       "        vertical-align: top;\n",
       "    }\n",
       "\n",
       "    .dataframe thead th {\n",
       "        text-align: right;\n",
       "    }\n",
       "</style>\n",
       "<table border=\"1\" class=\"dataframe\">\n",
       "  <thead>\n",
       "    <tr style=\"text-align: right;\">\n",
       "      <th></th>\n",
       "      <th>article_id</th>\n",
       "      <th>entropy</th>\n",
       "      <th>article_name</th>\n",
       "    </tr>\n",
       "  </thead>\n",
       "  <tbody>\n",
       "    <tr>\n",
       "      <th>0</th>\n",
       "      <td>0</td>\n",
       "      <td>0.000000</td>\n",
       "      <td>Áedán mac Gabráin</td>\n",
       "    </tr>\n",
       "    <tr>\n",
       "      <th>1</th>\n",
       "      <td>1</td>\n",
       "      <td>1.584963</td>\n",
       "      <td>Åland</td>\n",
       "    </tr>\n",
       "    <tr>\n",
       "      <th>2</th>\n",
       "      <td>2</td>\n",
       "      <td>2.584963</td>\n",
       "      <td>Édouard Manet</td>\n",
       "    </tr>\n",
       "    <tr>\n",
       "      <th>3</th>\n",
       "      <td>3</td>\n",
       "      <td>1.351644</td>\n",
       "      <td>Éire</td>\n",
       "    </tr>\n",
       "    <tr>\n",
       "      <th>4</th>\n",
       "      <td>4</td>\n",
       "      <td>0.000000</td>\n",
       "      <td>Óengus I of the Picts</td>\n",
       "    </tr>\n",
       "    <tr>\n",
       "      <th>...</th>\n",
       "      <td>...</td>\n",
       "      <td>...</td>\n",
       "      <td>...</td>\n",
       "    </tr>\n",
       "    <tr>\n",
       "      <th>4599</th>\n",
       "      <td>4599</td>\n",
       "      <td>3.836592</td>\n",
       "      <td>Zionism</td>\n",
       "    </tr>\n",
       "    <tr>\n",
       "      <th>4600</th>\n",
       "      <td>4600</td>\n",
       "      <td>2.950212</td>\n",
       "      <td>Zirconium</td>\n",
       "    </tr>\n",
       "    <tr>\n",
       "      <th>4601</th>\n",
       "      <td>4601</td>\n",
       "      <td>3.572469</td>\n",
       "      <td>Zoroaster</td>\n",
       "    </tr>\n",
       "    <tr>\n",
       "      <th>4602</th>\n",
       "      <td>4602</td>\n",
       "      <td>0.000000</td>\n",
       "      <td>Zuid-Gelders</td>\n",
       "    </tr>\n",
       "    <tr>\n",
       "      <th>4603</th>\n",
       "      <td>4603</td>\n",
       "      <td>2.799861</td>\n",
       "      <td>Zulu</td>\n",
       "    </tr>\n",
       "  </tbody>\n",
       "</table>\n",
       "<p>4604 rows × 3 columns</p>\n",
       "</div>"
      ],
      "text/plain": [
       "      article_id   entropy           article_name\n",
       "0              0  0.000000      Áedán mac Gabráin\n",
       "1              1  1.584963                  Åland\n",
       "2              2  2.584963          Édouard Manet\n",
       "3              3  1.351644                   Éire\n",
       "4              4  0.000000  Óengus I of the Picts\n",
       "...          ...       ...                    ...\n",
       "4599        4599  3.836592                Zionism\n",
       "4600        4600  2.950212              Zirconium\n",
       "4601        4601  3.572469              Zoroaster\n",
       "4602        4602  0.000000           Zuid-Gelders\n",
       "4603        4603  2.799861                   Zulu\n",
       "\n",
       "[4604 rows x 3 columns]"
      ]
     },
     "execution_count": 13,
     "metadata": {},
     "output_type": "execute_result"
    }
   ],
   "source": [
    "# Correlation between articles that have high entropy are the sma ewiht high connectivity\n",
    "entropy_df\n",
    "\n",
    "\n"
   ]
  },
  {
   "cell_type": "markdown",
   "metadata": {},
   "source": [
    "# 5. Conclusion\n",
    "Yes, there is a difference between finished and unfinished paths in relation to entropy, but not as expected. Finished paths have higher entropy, which completely contradicts the Peppito hypothesis that cognitive load and uncertainty can play a role in the game. We have shown that this behavior is primarily due to the main strategy in the game, which involves moving toward highly connected nodes. These nodes inherently have high entropy, not because of human uncertainty, but simply because they possess more connections, allowing transition probabilities to spread out more easily.\n",
    "\n",
    "We have also demonstrated that there are no differences in entropy between the different types of unfinished paths (temporary or abandoned) and that no relationship exists between the clicking rate (a proxy for uncertainty, as higher click rates indicate more decisions on the next page) and the number of back clicks.\n",
    "\n",
    "In summary, entropy is not a good proxy for cognitive load, as it represents a metric more correlated with connectivity rather than a true neurological load associated with gameplay.\n"
   ]
  }
 ],
 "metadata": {
  "kernelspec": {
   "display_name": "ada",
   "language": "python",
   "name": "python3"
  },
  "language_info": {
   "codemirror_mode": {
    "name": "ipython",
    "version": 3
   },
   "file_extension": ".py",
   "mimetype": "text/x-python",
   "name": "python",
   "nbconvert_exporter": "python",
   "pygments_lexer": "ipython3",
   "version": "3.11.10"
  }
 },
 "nbformat": 4,
 "nbformat_minor": 2
}
