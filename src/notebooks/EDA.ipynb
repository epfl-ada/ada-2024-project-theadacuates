{
 "cells": [
  {
   "cell_type": "code",
   "execution_count": 51,
   "metadata": {},
   "outputs": [],
   "source": [
    "import numpy as np\n",
    "import matplotlib.pyplot as plt\n",
    "import seaborn as sns\n",
    "import pandas as pd\n",
    "import os\n",
    "import ast\n",
    "import networkx as nx\n",
    "from collections import Counter\n",
    "os.chdir(\"/Users/adamouazzani/Documents/GitHub/ada-2024-project-theadacuates\")"
   ]
  },
  {
   "cell_type": "code",
   "execution_count": 33,
   "metadata": {},
   "outputs": [
    {
     "name": "stderr",
     "output_type": "stream",
     "text": [
      "/var/folders/fn/4xlpvr555jx0gt6033j7x9lr0000gn/T/ipykernel_60157/673070665.py:1: DtypeWarning: Columns (9) have mixed types. Specify dtype option on import or set low_memory=False.\n",
      "  df_raw = pd.read_csv('./data/output/base_data/raw_processed.csv')\n",
      "/var/folders/fn/4xlpvr555jx0gt6033j7x9lr0000gn/T/ipykernel_60157/673070665.py:2: DtypeWarning: Columns (9) have mixed types. Specify dtype option on import or set low_memory=False.\n",
      "  df_processed = pd.read_csv('./data/output/base_data/paths_processed.csv')\n"
     ]
    }
   ],
   "source": [
    "df_raw = pd.read_csv('./data/output/base_data/raw_processed.csv')   \n",
    "df_processed = pd.read_csv('./data/output/base_data/paths_processed.csv')"
   ]
  },
  {
   "cell_type": "markdown",
   "metadata": {},
   "source": [
    "# 1. Compare Row counts"
   ]
  },
  {
   "cell_type": "code",
   "execution_count": 34,
   "metadata": {},
   "outputs": [
    {
     "name": "stdout",
     "output_type": "stream",
     "text": [
      "Total rows in raw data: 76193\n",
      "Total rows in processed data: 74140\n",
      "Paths removed during preprocessing: 2053\n"
     ]
    }
   ],
   "source": [
    "raw_row_count = df_raw.shape[0]\n",
    "processed_row_count = df_processed.shape[0]\n",
    "removed_paths = raw_row_count - processed_row_count\n",
    "\n",
    "print(f\"Total rows in raw data: {raw_row_count}\")\n",
    "print(f\"Total rows in processed data: {processed_row_count}\")\n",
    "print(f\"Paths removed during preprocessing: {removed_paths}\")\n"
   ]
  },
  {
   "cell_type": "markdown",
   "metadata": {},
   "source": [
    "# 2. Compare Path Completion Status"
   ]
  },
  {
   "cell_type": "code",
   "execution_count": 35,
   "metadata": {},
   "outputs": [
    {
     "name": "stdout",
     "output_type": "stream",
     "text": [
      "Raw Data - Finished/Unfinished Counts:\n",
      " finished\n",
      "True     51318\n",
      "False    24875\n",
      "Name: count, dtype: int64\n",
      "Processed Data - Finished/Unfinished Counts:\n",
      " finished\n",
      "True     51280\n",
      "False    22860\n",
      "Name: count, dtype: int64\n"
     ]
    }
   ],
   "source": [
    "# Count finished vs. unfinished in raw data\n",
    "raw_finished_counts = df_raw['finished'].value_counts()\n",
    "print(\"Raw Data - Finished/Unfinished Counts:\\n\", raw_finished_counts)\n",
    "\n",
    "# Count finished vs. unfinished in processed data\n",
    "processed_finished_counts = df_processed['finished'].value_counts()\n",
    "print(\"Processed Data - Finished/Unfinished Counts:\\n\", processed_finished_counts)\n"
   ]
  },
  {
   "cell_type": "markdown",
   "metadata": {},
   "source": [
    "# 3. Check Balance between finished and unfinished path\n"
   ]
  },
  {
   "cell_type": "code",
   "execution_count": 36,
   "metadata": {},
   "outputs": [
    {
     "name": "stdout",
     "output_type": "stream",
     "text": [
      "Percentage of finished paths in raw data: 67.35%\n",
      "Percentage of finished paths in processed data: 69.17%\n"
     ]
    }
   ],
   "source": [
    "# Calculate percentage of finished vs. unfinished paths in each dataset\n",
    "raw_finished_ratio = raw_finished_counts[True] / raw_row_count\n",
    "processed_finished_ratio = processed_finished_counts[True] / processed_row_count\n",
    "\n",
    "print(f\"Percentage of finished paths in raw data: {raw_finished_ratio:.2%}\")\n",
    "print(f\"Percentage of finished paths in processed data: {processed_finished_ratio:.2%}\")\n"
   ]
  },
  {
   "cell_type": "markdown",
   "metadata": {},
   "source": [
    "# 4. Find Most Frequent pages"
   ]
  },
  {
   "cell_type": "code",
   "execution_count": 49,
   "metadata": {},
   "outputs": [
    {
     "name": "stdout",
     "output_type": "stream",
     "text": [
      "Top 20 Most Frequent Pages (Hubs):\n",
      " [('<', 33307), ('United States', 12438), ('Europe', 5606), ('United Kingdom', 5321), ('England', 4550), ('Earth', 4209), ('Africa', 3586), ('World War II', 2930), ('North America', 2590), ('Animal', 2467), ('Human', 2402), ('Mammal', 2331), ('Brain', 2324), ('France', 2247), ('Germany', 2221), ('English language', 2026), ('Computer', 1951), ('Science', 1918), ('Theatre', 1901), ('Asteroid', 1892)]\n"
     ]
    }
   ],
   "source": [
    "# Convert path_list strings to actual lists if necessary\n",
    "df_processed['path_list'] = df_processed['path_list'].apply(lambda x: ast.literal_eval(x) if isinstance(x, str) else x)\n",
    "\n",
    "# Flatten the list of pages and count occurrences of each page\n",
    "all_pages = [page for path in df_processed['path_list'] for page in path]\n",
    "page_counts = Counter(all_pages)\n",
    "\n",
    "# Display the top 20 most frequent pages\n",
    "top_20_pages = page_counts.most_common(20)\n",
    "print(\"Top 20 Most Frequent Pages (Hubs):\\n\", top_20_pages)\n"
   ]
  },
  {
   "cell_type": "markdown",
   "metadata": {},
   "source": [
    "# Find most frequent pages using PageRank"
   ]
  },
  {
   "cell_type": "code",
   "execution_count": 52,
   "metadata": {},
   "outputs": [],
   "source": [
    "# Unweighted, directed graph\n",
    "G_unweighted = nx.DiGraph()\n",
    "for path in df_processed['path_list']:\n",
    "    nx.add_path(G_unweighted, path)\n",
    "\n",
    "# Weighted, directed graph based on the frequency of connections\n",
    "G_weighted = nx.DiGraph()\n",
    "for path in df_processed['path_list']:\n",
    "    for i in range(len(path) - 1):\n",
    "        source, target = path[i], path[i + 1]\n",
    "        if G_weighted.has_edge(source, target):\n",
    "            G_weighted[source][target]['weight'] += 1\n",
    "        else:\n",
    "            G_weighted.add_edge(source, target, weight=1)"
   ]
  },
  {
   "cell_type": "code",
   "execution_count": 53,
   "metadata": {},
   "outputs": [
    {
     "name": "stdout",
     "output_type": "stream",
     "text": [
      "Top Pages by Network Metrics:\n",
      "                 Degree Centrality  Betweenness Centrality  \\\n",
      "<                        1.290500                0.539928   \n",
      "United States            0.366595                0.022428   \n",
      "Europe                   0.203159                0.013779   \n",
      "United Kingdom           0.201484                0.011669   \n",
      "England                  0.175879                0.004324   \n",
      "Africa                   0.122996                0.011625   \n",
      "Earth                    0.082556                0.002377   \n",
      "World War II             0.150275                0.006469   \n",
      "North America            0.088777                0.005367   \n",
      "France                   0.137114                0.005085   \n",
      "\n",
      "                Closeness Centrality  PageRank  \n",
      "<                           0.748388  0.072120  \n",
      "United States               0.580175  0.028445  \n",
      "Europe                      0.535289  0.012747  \n",
      "United Kingdom              0.532153  0.012233  \n",
      "England                     0.507222  0.010827  \n",
      "Africa                      0.487290  0.008275  \n",
      "Earth                       0.477709  0.007101  \n",
      "World War II                0.518036  0.006931  \n",
      "North America               0.489975  0.005516  \n",
      "France                      0.517972  0.005164  \n"
     ]
    }
   ],
   "source": [
    "# Degree, Betweenness, Closeness Centrality, and PageRank for weighted graph\n",
    "degree_centrality = nx.degree_centrality(G_weighted)\n",
    "betweenness_centrality = nx.betweenness_centrality(G_weighted, weight='weight')\n",
    "closeness_centrality = nx.closeness_centrality(G_weighted)\n",
    "pagerank = nx.pagerank(G_weighted, weight='weight')\n",
    "\n",
    "# Combine into DataFrame for easy comparison\n",
    "metrics_df = pd.DataFrame({\n",
    "    'Degree Centrality': degree_centrality,\n",
    "    'Betweenness Centrality': betweenness_centrality,\n",
    "    'Closeness Centrality': closeness_centrality,\n",
    "    'PageRank': pagerank\n",
    "}).sort_values(by='PageRank', ascending=False)\n",
    "\n",
    "print(\"Top Pages by Network Metrics:\\n\", metrics_df.head(10))"
   ]
  },
  {
   "cell_type": "markdown",
   "metadata": {},
   "source": [
    "# 5. Number of ingoing and outgoing links for the top hubs"
   ]
  },
  {
   "cell_type": "code",
   "execution_count": 54,
   "metadata": {},
   "outputs": [
    {
     "name": "stdout",
     "output_type": "stream",
     "text": [
      "Top Pages with Ingoing and Outgoing Links:\n",
      "              Page  Ingoing Links  Outgoing Links\n",
      "0               <          33307           31088\n",
      "1   United States          12389           11854\n",
      "2          Europe           5565            5414\n",
      "3  United Kingdom           5300            5034\n",
      "4         England           4411            4195\n",
      "5          Africa           3490            3425\n",
      "6           Earth           4168            4035\n",
      "7    World War II           2895            2766\n",
      "8   North America           2547            2432\n",
      "9          France           2225            2077\n"
     ]
    }
   ],
   "source": [
    "# Select the top 10 pages by PageRank from metrics_df\n",
    "top_pages = metrics_df.head(10).index  # Extract the top page names based on PageRank\n",
    "\n",
    "# Calculate ingoing and outgoing link counts for top pages\n",
    "ingoing_outgoing_links = []\n",
    "for page in top_pages:\n",
    "    ingoing_links = G_weighted.in_degree(page, weight='weight')  # Number of ingoing links (weighted)\n",
    "    outgoing_links = G_weighted.out_degree(page, weight='weight')  # Number of outgoing links (weighted)\n",
    "    ingoing_outgoing_links.append((page, ingoing_links, outgoing_links))\n",
    "\n",
    "# Create a DataFrame for better visualization\n",
    "links_df = pd.DataFrame(ingoing_outgoing_links, columns=['Page', 'Ingoing Links', 'Outgoing Links'])\n",
    "print(\"Top Pages with Ingoing and Outgoing Links:\\n\", links_df)\n"
   ]
  },
  {
   "cell_type": "markdown",
   "metadata": {},
   "source": [
    "# 6. Categories"
   ]
  },
  {
   "cell_type": "code",
   "execution_count": null,
   "metadata": {},
   "outputs": [
    {
     "name": "stdout",
     "output_type": "stream",
     "text": [
      "Number of Paths by Start and End Categories:\n",
      " end_category             Art  Business Studies  Citizenship  Countries  \\\n",
      "start_category                                                           \n",
      "Art                        6                14           22         11   \n",
      "Business Studies          18                42           55         46   \n",
      "Citizenship               16                63          144         82   \n",
      "Countries                  7                31           71         65   \n",
      "Design and Technology     32                54          131         75   \n",
      "Everyday life             44               144          366        203   \n",
      "Geography                 90               247          589        412   \n",
      "History                   56                99          281        179   \n",
      "IT                         6                24           49         65   \n",
      "Language and literature   11                32          104         54   \n",
      "Mathematics                3                11           42         24   \n",
      "Music                     17                20           65         50   \n",
      "People                    43               142          269        166   \n",
      "Religion                  21                52           88         38   \n",
      "Science                  104               396          715        520   \n",
      "\n",
      "end_category             Design and Technology  Everyday life  Geography  \\\n",
      "start_category                                                             \n",
      "Art                                         14            121        111   \n",
      "Business Studies                            51            137        257   \n",
      "Citizenship                                121            360        590   \n",
      "Countries                                   50            179        430   \n",
      "Design and Technology                       99           1835        512   \n",
      "Everyday life                              462           1000       1274   \n",
      "Geography                                  503           1203       2820   \n",
      "History                                    234            531       1295   \n",
      "IT                                          44            232        303   \n",
      "Language and literature                     92            195        520   \n",
      "Mathematics                                 25            141        166   \n",
      "Music                                       57            113        234   \n",
      "People                                     228            610       1540   \n",
      "Religion                                    54            219        359   \n",
      "Science                                   2689           1509       3321   \n",
      "\n",
      "end_category             History   IT  Language and literature  Mathematics  \\\n",
      "start_category                                                                \n",
      "Art                           24   10                       10            1   \n",
      "Business Studies             114   14                       27            9   \n",
      "Citizenship                  244   49                       87           31   \n",
      "Countries                    106   25                       65           10   \n",
      "Design and Technology        256  160                       97           33   \n",
      "Everyday life                678  135                      230           87   \n",
      "Geography                   1119  237                      380          157   \n",
      "History                      584  146                      160           43   \n",
      "IT                           130   41                       55            8   \n",
      "Language and literature      209   37                       58           23   \n",
      "Mathematics                   45   21                       24            3   \n",
      "Music                        135   34                       45            9   \n",
      "People                       569  177                      223           73   \n",
      "Religion                     166   56                       57           22   \n",
      "Science                     2978  477                      509          190   \n",
      "\n",
      "end_category             Music  People  Religion  Science  \n",
      "start_category                                             \n",
      "Art                         23      69        16      135  \n",
      "Business Studies            26     139        27      268  \n",
      "Citizenship                 45     272        70      740  \n",
      "Countries                   44     175        34      414  \n",
      "Design and Technology       61     287        71      668  \n",
      "Everyday life              123     724       314     2026  \n",
      "Geography                  306    1415       371     2859  \n",
      "History                    122     604       213     1419  \n",
      "IT                          50     185        58      311  \n",
      "Language and literature     44     202        73     2265  \n",
      "Mathematics                 23     124        17      166  \n",
      "Music                       30     132        18      323  \n",
      "People                     140     727       207     1712  \n",
      "Religion                    42     270       125      420  \n",
      "Science                    388    1894       536     4073  \n"
     ]
    }
   ],
   "source": [
    "# Load categories data \n",
    "df_categories = pd.read_csv('./data/output/base_data/categories_processed.csv')\n",
    "df_categories = df_categories[['article_name', 'article_category_1']]\n",
    "df_categories = df_categories.rename(columns={'article_category_1': 'primary_category'})\n",
    "\n",
    "# Remove duplicates to ensure each article has a unique category\n",
    "df_categories = df_categories.drop_duplicates(subset=['article_name'])\n",
    "\n",
    "# Merge to add start category based on `source_link`\n",
    "df_processed = df_processed.merge(\n",
    "    df_categories,\n",
    "    left_on='source_link',\n",
    "    right_on='article_name',\n",
    "    how='left'\n",
    ").rename(columns={'primary_category': 'start_category'})\n",
    "\n",
    "# Merge to add end category based on `target_link`\n",
    "df_processed = df_processed.merge(\n",
    "    df_categories,\n",
    "    left_on='target_link',\n",
    "    right_on='article_name',\n",
    "    how='left'\n",
    ").rename(columns={'primary_category': 'end_category'})\n",
    "\n",
    "# Drop redundant columns from merging\n",
    "df_processed = df_processed.drop(columns=['article_name_x', 'article_name_y'])\n",
    "\n",
    "# Count paths that start in one category and end in another\n",
    "category_path_counts = df_processed.groupby(['start_category', 'end_category']).size().unstack(fill_value=0)\n",
    "\n",
    "# Display the result\n",
    "print(\"Number of Paths by Start and End Categories:\\n\", category_path_counts)"
   ]
  },
  {
   "cell_type": "code",
   "execution_count": 59,
   "metadata": {},
   "outputs": [
    {
     "name": "stdout",
     "output_type": "stream",
     "text": [
      "Top Start Categories:\n",
      " start_category\n",
      "Science                    20316\n",
      "Geography                  12725\n",
      "Everyday life               7815\n",
      "People                      6832\n",
      "History                     5970\n",
      "Design and Technology       4371\n",
      "Language and literature     3920\n",
      "Citizenship                 2915\n",
      "Religion                    1989\n",
      "Countries                   1708\n",
      "Name: count, dtype: int64\n",
      "\n",
      "Top Finish Categories:\n",
      " end_category\n",
      "Science                    17823\n",
      "Geography                  13745\n",
      "Everyday life               8400\n",
      "History                     7359\n",
      "People                      7226\n",
      "Design and Technology       4723\n",
      "Citizenship                 2991\n",
      "Religion                    2167\n",
      "Language and literature     2027\n",
      "Countries                   1992\n",
      "Name: count, dtype: int64\n"
     ]
    }
   ],
   "source": [
    "# Top Start Categories\n",
    "top_start_categories = df_processed['start_category'].value_counts().head(10)\n",
    "print(\"Top Start Categories:\\n\", top_start_categories)\n",
    "\n",
    "# Top Finish Categories\n",
    "top_finish_categories = df_processed['end_category'].value_counts().head(10)\n",
    "print(\"\\nTop Finish Categories:\\n\", top_finish_categories)\n",
    "\n"
   ]
  },
  {
   "cell_type": "code",
   "execution_count": 60,
   "metadata": {},
   "outputs": [
    {
     "name": "stdout",
     "output_type": "stream",
     "text": [
      "Most Common Categories Among Top Hubs:\n",
      " primary_category\n",
      "Geography    4\n",
      "Countries    3\n",
      "Science      1\n",
      "History      1\n",
      "Name: count, dtype: int64\n"
     ]
    }
   ],
   "source": [
    "# Assuming `top_pages` contains the names of the top hub pages\n",
    "# and `df_categories` has columns 'article_name' and 'primary_category'\n",
    "\n",
    "# Filter df_categories to only include the top hub pages\n",
    "hub_categories = df_categories[df_categories['article_name'].isin(top_pages)]\n",
    "\n",
    "# Count the most common categories among the top hubs\n",
    "top_hub_categories = hub_categories['primary_category'].value_counts().head(10)\n",
    "\n",
    "print(\"Most Common Categories Among Top Hubs:\\n\", top_hub_categories)"
   ]
  },
  {
   "cell_type": "code",
   "execution_count": null,
   "metadata": {},
   "outputs": [],
   "source": []
  }
 ],
 "metadata": {
  "kernelspec": {
   "display_name": "ada",
   "language": "python",
   "name": "python3"
  },
  "language_info": {
   "codemirror_mode": {
    "name": "ipython",
    "version": 3
   },
   "file_extension": ".py",
   "mimetype": "text/x-python",
   "name": "python",
   "nbconvert_exporter": "python",
   "pygments_lexer": "ipython3",
   "version": "3.11.9"
  }
 },
 "nbformat": 4,
 "nbformat_minor": 2
}
